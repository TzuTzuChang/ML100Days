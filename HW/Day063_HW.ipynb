{
 "cells": [
  {
   "cell_type": "markdown",
   "metadata": {},
   "source": [
    "# 作業\n",
    "* 在精簡深度學習的方式上 : 卷積類神經 (CNN) 採用像素遠近，而遞歸類神經 (RNN) 採用著則是時間遠近\n",
    "* 那麼，既然有著類似的設計精神，兩者是否有可能互換應用呢?\n",
    "\n",
    "> 雖然維度並不相同(圖像是2維, 時序問題是1維), 但實務上, 兩者確實是存在互換空間的.\n",
    "\n",
    "> 時序問題使用CNN, CNN既然可以採用2維的卷積方式, 當然也存在對應的1維卷積(稱為1d-CNN), 但是1d-CNN就不適合再拿去做2維的圖像辨識了, 而是專注抓取序列中重複出現的關鍵片段, 常與進階版的RNN-長短期記憶網路(LSTM)搭配使用, 用來預測股市等時序型問題.\n",
    "\n",
    ">圖像類問題使用RNN, 如果影像某個軸向有連續的現象, 則RNN也可以處理這類較狹義的圖像問題."
   ]
  }
 ],
 "metadata": {
  "kernelspec": {
   "display_name": "Python 3",
   "language": "python",
   "name": "python3"
  },
  "language_info": {
   "codemirror_mode": {
    "name": "ipython",
    "version": 3
   },
   "file_extension": ".py",
   "mimetype": "text/x-python",
   "name": "python",
   "nbconvert_exporter": "python",
   "pygments_lexer": "ipython3",
   "version": "3.7.6"
  }
 },
 "nbformat": 4,
 "nbformat_minor": 2
}
