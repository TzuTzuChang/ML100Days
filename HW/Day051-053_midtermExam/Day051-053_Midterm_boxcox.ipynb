{
 "cells": [
  {
   "cell_type": "markdown",
   "metadata": {},
   "source": [
    "## 匯入資料"
   ]
  },
  {
   "cell_type": "code",
   "execution_count": 1,
   "metadata": {},
   "outputs": [],
   "source": [
    "import pandas as pd\n",
    "import numpy as np\n",
    "import matplotlib.pyplot as plt\n",
    "%matplotlib inline\n",
    "plt.style.use('ggplot')\n",
    "#忽略警示訊息\n",
    "import warnings\n",
    "warnings.filterwarnings('ignore')\n",
    "\n",
    "data_path = '/Users/amber21_chang/Work/ML100Days/Day051-053/'\n",
    "df_train = pd.read_csv(data_path + 'train_data.csv')\n",
    "df_test = pd.read_csv(data_path + 'test_features.csv')"
   ]
  },
  {
   "cell_type": "markdown",
   "metadata": {},
   "source": [
    "## 資料前處理"
   ]
  },
  {
   "cell_type": "markdown",
   "metadata": {},
   "source": [
    "### 合併資料集"
   ]
  },
  {
   "cell_type": "code",
   "execution_count": 2,
   "metadata": {},
   "outputs": [
    {
     "data": {
      "text/html": [
       "<div>\n",
       "<style scoped>\n",
       "    .dataframe tbody tr th:only-of-type {\n",
       "        vertical-align: middle;\n",
       "    }\n",
       "\n",
       "    .dataframe tbody tr th {\n",
       "        vertical-align: top;\n",
       "    }\n",
       "\n",
       "    .dataframe thead th {\n",
       "        text-align: right;\n",
       "    }\n",
       "</style>\n",
       "<table border=\"1\" class=\"dataframe\">\n",
       "  <thead>\n",
       "    <tr style=\"text-align: right;\">\n",
       "      <th></th>\n",
       "      <th>bonus</th>\n",
       "      <th>deferral_payments</th>\n",
       "      <th>deferred_income</th>\n",
       "      <th>director_fees</th>\n",
       "      <th>email_address</th>\n",
       "      <th>exercised_stock_options</th>\n",
       "      <th>expenses</th>\n",
       "      <th>from_messages</th>\n",
       "      <th>from_poi_to_this_person</th>\n",
       "      <th>from_this_person_to_poi</th>\n",
       "      <th>loan_advances</th>\n",
       "      <th>long_term_incentive</th>\n",
       "      <th>other</th>\n",
       "      <th>restricted_stock</th>\n",
       "      <th>restricted_stock_deferred</th>\n",
       "      <th>salary</th>\n",
       "      <th>shared_receipt_with_poi</th>\n",
       "      <th>to_messages</th>\n",
       "      <th>total_payments</th>\n",
       "      <th>total_stock_value</th>\n",
       "    </tr>\n",
       "  </thead>\n",
       "  <tbody>\n",
       "    <tr>\n",
       "      <th>0</th>\n",
       "      <td>1750000.0</td>\n",
       "      <td>NaN</td>\n",
       "      <td>-3504386.0</td>\n",
       "      <td>NaN</td>\n",
       "      <td>ken.rice@enron.com</td>\n",
       "      <td>19794175.0</td>\n",
       "      <td>46950.0</td>\n",
       "      <td>18.0</td>\n",
       "      <td>42.0</td>\n",
       "      <td>4.0</td>\n",
       "      <td>NaN</td>\n",
       "      <td>1617011.0</td>\n",
       "      <td>174839.0</td>\n",
       "      <td>2748364.0</td>\n",
       "      <td>NaN</td>\n",
       "      <td>420636.0</td>\n",
       "      <td>864.0</td>\n",
       "      <td>905.0</td>\n",
       "      <td>505050.0</td>\n",
       "      <td>22542539.0</td>\n",
       "    </tr>\n",
       "    <tr>\n",
       "      <th>1</th>\n",
       "      <td>5600000.0</td>\n",
       "      <td>NaN</td>\n",
       "      <td>NaN</td>\n",
       "      <td>NaN</td>\n",
       "      <td>jeff.skilling@enron.com</td>\n",
       "      <td>19250000.0</td>\n",
       "      <td>29336.0</td>\n",
       "      <td>108.0</td>\n",
       "      <td>88.0</td>\n",
       "      <td>30.0</td>\n",
       "      <td>NaN</td>\n",
       "      <td>1920000.0</td>\n",
       "      <td>22122.0</td>\n",
       "      <td>6843672.0</td>\n",
       "      <td>NaN</td>\n",
       "      <td>1111258.0</td>\n",
       "      <td>2042.0</td>\n",
       "      <td>3627.0</td>\n",
       "      <td>8682716.0</td>\n",
       "      <td>26093672.0</td>\n",
       "    </tr>\n",
       "    <tr>\n",
       "      <th>2</th>\n",
       "      <td>200000.0</td>\n",
       "      <td>NaN</td>\n",
       "      <td>-4167.0</td>\n",
       "      <td>NaN</td>\n",
       "      <td>rex.shelby@enron.com</td>\n",
       "      <td>1624396.0</td>\n",
       "      <td>22884.0</td>\n",
       "      <td>39.0</td>\n",
       "      <td>13.0</td>\n",
       "      <td>14.0</td>\n",
       "      <td>NaN</td>\n",
       "      <td>NaN</td>\n",
       "      <td>1573324.0</td>\n",
       "      <td>869220.0</td>\n",
       "      <td>NaN</td>\n",
       "      <td>211844.0</td>\n",
       "      <td>91.0</td>\n",
       "      <td>225.0</td>\n",
       "      <td>2003885.0</td>\n",
       "      <td>2493616.0</td>\n",
       "    </tr>\n",
       "    <tr>\n",
       "      <th>3</th>\n",
       "      <td>800000.0</td>\n",
       "      <td>NaN</td>\n",
       "      <td>NaN</td>\n",
       "      <td>NaN</td>\n",
       "      <td>michael.kopper@enron.com</td>\n",
       "      <td>NaN</td>\n",
       "      <td>118134.0</td>\n",
       "      <td>NaN</td>\n",
       "      <td>NaN</td>\n",
       "      <td>NaN</td>\n",
       "      <td>NaN</td>\n",
       "      <td>602671.0</td>\n",
       "      <td>907502.0</td>\n",
       "      <td>985032.0</td>\n",
       "      <td>NaN</td>\n",
       "      <td>224305.0</td>\n",
       "      <td>NaN</td>\n",
       "      <td>NaN</td>\n",
       "      <td>2652612.0</td>\n",
       "      <td>985032.0</td>\n",
       "    </tr>\n",
       "    <tr>\n",
       "      <th>4</th>\n",
       "      <td>1250000.0</td>\n",
       "      <td>NaN</td>\n",
       "      <td>-262500.0</td>\n",
       "      <td>NaN</td>\n",
       "      <td>christopher.calger@enron.com</td>\n",
       "      <td>NaN</td>\n",
       "      <td>35818.0</td>\n",
       "      <td>144.0</td>\n",
       "      <td>199.0</td>\n",
       "      <td>25.0</td>\n",
       "      <td>NaN</td>\n",
       "      <td>375304.0</td>\n",
       "      <td>486.0</td>\n",
       "      <td>126027.0</td>\n",
       "      <td>NaN</td>\n",
       "      <td>240189.0</td>\n",
       "      <td>2188.0</td>\n",
       "      <td>2598.0</td>\n",
       "      <td>1639297.0</td>\n",
       "      <td>126027.0</td>\n",
       "    </tr>\n",
       "  </tbody>\n",
       "</table>\n",
       "</div>"
      ],
      "text/plain": [
       "       bonus  deferral_payments  deferred_income  director_fees  \\\n",
       "0  1750000.0                NaN       -3504386.0            NaN   \n",
       "1  5600000.0                NaN              NaN            NaN   \n",
       "2   200000.0                NaN          -4167.0            NaN   \n",
       "3   800000.0                NaN              NaN            NaN   \n",
       "4  1250000.0                NaN        -262500.0            NaN   \n",
       "\n",
       "                  email_address  exercised_stock_options  expenses  \\\n",
       "0            ken.rice@enron.com               19794175.0   46950.0   \n",
       "1       jeff.skilling@enron.com               19250000.0   29336.0   \n",
       "2          rex.shelby@enron.com                1624396.0   22884.0   \n",
       "3      michael.kopper@enron.com                      NaN  118134.0   \n",
       "4  christopher.calger@enron.com                      NaN   35818.0   \n",
       "\n",
       "   from_messages  from_poi_to_this_person  from_this_person_to_poi  \\\n",
       "0           18.0                     42.0                      4.0   \n",
       "1          108.0                     88.0                     30.0   \n",
       "2           39.0                     13.0                     14.0   \n",
       "3            NaN                      NaN                      NaN   \n",
       "4          144.0                    199.0                     25.0   \n",
       "\n",
       "   loan_advances  long_term_incentive      other  restricted_stock  \\\n",
       "0            NaN            1617011.0   174839.0         2748364.0   \n",
       "1            NaN            1920000.0    22122.0         6843672.0   \n",
       "2            NaN                  NaN  1573324.0          869220.0   \n",
       "3            NaN             602671.0   907502.0          985032.0   \n",
       "4            NaN             375304.0      486.0          126027.0   \n",
       "\n",
       "   restricted_stock_deferred     salary  shared_receipt_with_poi  to_messages  \\\n",
       "0                        NaN   420636.0                    864.0        905.0   \n",
       "1                        NaN  1111258.0                   2042.0       3627.0   \n",
       "2                        NaN   211844.0                     91.0        225.0   \n",
       "3                        NaN   224305.0                      NaN          NaN   \n",
       "4                        NaN   240189.0                   2188.0       2598.0   \n",
       "\n",
       "   total_payments  total_stock_value  \n",
       "0        505050.0         22542539.0  \n",
       "1       8682716.0         26093672.0  \n",
       "2       2003885.0          2493616.0  \n",
       "3       2652612.0           985032.0  \n",
       "4       1639297.0           126027.0  "
      ]
     },
     "execution_count": 2,
     "metadata": {},
     "output_type": "execute_result"
    }
   ],
   "source": [
    "#合併資料集\n",
    "train_Y = df_train['poi']\n",
    "#test_Name = df_test['name']\n",
    "train_dp = df_train.drop(['name', 'poi'] , axis=1)\n",
    "test_dp = df_test.drop(['name'] , axis=1)\n",
    "df = pd.concat([train_dp, test_dp])\n",
    "df.head()"
   ]
  },
  {
   "cell_type": "code",
   "execution_count": 3,
   "metadata": {},
   "outputs": [
    {
     "name": "stdout",
     "output_type": "stream",
     "text": [
      "19 Numeric Features : ['bonus', 'deferral_payments', 'deferred_income', 'director_fees', 'exercised_stock_options', 'expenses', 'from_messages', 'from_poi_to_this_person', 'from_this_person_to_poi', 'loan_advances', 'long_term_incentive', 'other', 'restricted_stock', 'restricted_stock_deferred', 'salary', 'shared_receipt_with_poi', 'to_messages', 'total_payments', 'total_stock_value']\n",
      "\n"
     ]
    }
   ],
   "source": [
    "#另存數值型特徵\n",
    "num_features = []\n",
    "for dtype, feature in zip(df.dtypes, df.columns):\n",
    "    if dtype == 'float64' or dtype == 'int64':\n",
    "        num_features.append(feature)\n",
    "print(f'{len(num_features)} Numeric Features : {num_features}\\n')"
   ]
  },
  {
   "cell_type": "markdown",
   "metadata": {},
   "source": [
    "### NA值處理"
   ]
  },
  {
   "cell_type": "code",
   "execution_count": 4,
   "metadata": {},
   "outputs": [
    {
     "data": {
      "text/html": [
       "<div>\n",
       "<style scoped>\n",
       "    .dataframe tbody tr th:only-of-type {\n",
       "        vertical-align: middle;\n",
       "    }\n",
       "\n",
       "    .dataframe tbody tr th {\n",
       "        vertical-align: top;\n",
       "    }\n",
       "\n",
       "    .dataframe thead th {\n",
       "        text-align: right;\n",
       "    }\n",
       "</style>\n",
       "<table border=\"1\" class=\"dataframe\">\n",
       "  <thead>\n",
       "    <tr style=\"text-align: right;\">\n",
       "      <th></th>\n",
       "      <th>Missing Ratio</th>\n",
       "    </tr>\n",
       "  </thead>\n",
       "  <tbody>\n",
       "    <tr>\n",
       "      <th>loan_advances</th>\n",
       "      <td>97.260274</td>\n",
       "    </tr>\n",
       "    <tr>\n",
       "      <th>director_fees</th>\n",
       "      <td>88.356164</td>\n",
       "    </tr>\n",
       "    <tr>\n",
       "      <th>restricted_stock_deferred</th>\n",
       "      <td>87.671233</td>\n",
       "    </tr>\n",
       "    <tr>\n",
       "      <th>deferral_payments</th>\n",
       "      <td>73.287671</td>\n",
       "    </tr>\n",
       "    <tr>\n",
       "      <th>deferred_income</th>\n",
       "      <td>66.438356</td>\n",
       "    </tr>\n",
       "    <tr>\n",
       "      <th>long_term_incentive</th>\n",
       "      <td>54.794521</td>\n",
       "    </tr>\n",
       "    <tr>\n",
       "      <th>bonus</th>\n",
       "      <td>43.835616</td>\n",
       "    </tr>\n",
       "    <tr>\n",
       "      <th>from_messages</th>\n",
       "      <td>41.095890</td>\n",
       "    </tr>\n",
       "    <tr>\n",
       "      <th>from_poi_to_this_person</th>\n",
       "      <td>41.095890</td>\n",
       "    </tr>\n",
       "    <tr>\n",
       "      <th>from_this_person_to_poi</th>\n",
       "      <td>41.095890</td>\n",
       "    </tr>\n",
       "    <tr>\n",
       "      <th>shared_receipt_with_poi</th>\n",
       "      <td>41.095890</td>\n",
       "    </tr>\n",
       "    <tr>\n",
       "      <th>to_messages</th>\n",
       "      <td>41.095890</td>\n",
       "    </tr>\n",
       "    <tr>\n",
       "      <th>other</th>\n",
       "      <td>36.301370</td>\n",
       "    </tr>\n",
       "    <tr>\n",
       "      <th>expenses</th>\n",
       "      <td>34.931507</td>\n",
       "    </tr>\n",
       "    <tr>\n",
       "      <th>salary</th>\n",
       "      <td>34.931507</td>\n",
       "    </tr>\n",
       "    <tr>\n",
       "      <th>exercised_stock_options</th>\n",
       "      <td>30.136986</td>\n",
       "    </tr>\n",
       "    <tr>\n",
       "      <th>restricted_stock</th>\n",
       "      <td>24.657534</td>\n",
       "    </tr>\n",
       "    <tr>\n",
       "      <th>email_address</th>\n",
       "      <td>23.972603</td>\n",
       "    </tr>\n",
       "    <tr>\n",
       "      <th>total_payments</th>\n",
       "      <td>14.383562</td>\n",
       "    </tr>\n",
       "    <tr>\n",
       "      <th>total_stock_value</th>\n",
       "      <td>13.698630</td>\n",
       "    </tr>\n",
       "  </tbody>\n",
       "</table>\n",
       "</div>"
      ],
      "text/plain": [
       "                           Missing Ratio\n",
       "loan_advances                  97.260274\n",
       "director_fees                  88.356164\n",
       "restricted_stock_deferred      87.671233\n",
       "deferral_payments              73.287671\n",
       "deferred_income                66.438356\n",
       "long_term_incentive            54.794521\n",
       "bonus                          43.835616\n",
       "from_messages                  41.095890\n",
       "from_poi_to_this_person        41.095890\n",
       "from_this_person_to_poi        41.095890\n",
       "shared_receipt_with_poi        41.095890\n",
       "to_messages                    41.095890\n",
       "other                          36.301370\n",
       "expenses                       34.931507\n",
       "salary                         34.931507\n",
       "exercised_stock_options        30.136986\n",
       "restricted_stock               24.657534\n",
       "email_address                  23.972603\n",
       "total_payments                 14.383562\n",
       "total_stock_value              13.698630"
      ]
     },
     "metadata": {},
     "output_type": "display_data"
    }
   ],
   "source": [
    "#NA值處理(Day012)\n",
    "def na_check(df_data):\n",
    "    #計算各欄位NA值比例\n",
    "    data_na = (df_data.isnull().sum() / len(df_data)) * 100\n",
    "    #???data_na.drop(data_na[data_na == 0].index)\n",
    "    data_na = data_na.drop(data_na[data_na == 0].index).sort_values(ascending=False)\n",
    "    #將有NA值的特徵欄位與NA值比例組成新的DataFrame\n",
    "    missing_data = pd.DataFrame({'Missing Ratio' :data_na})\n",
    "    display(missing_data)\n",
    "na_check(df)"
   ]
  },
  {
   "cell_type": "code",
   "execution_count": 5,
   "metadata": {},
   "outputs": [],
   "source": [
    "#把有8成以上NA的特徵欄位直接捨棄\n",
    "df = df.drop(['loan_advances', 'director_fees', 'restricted_stock_deferred'], axis=1)\n",
    "#將object型態的email_address欄位捨去\n",
    "df = df.drop(['email_address'], axis=1)"
   ]
  },
  {
   "cell_type": "code",
   "execution_count": 6,
   "metadata": {},
   "outputs": [
    {
     "data": {
      "text/plain": [
       "SimpleImputer(strategy='median')"
      ]
     },
     "execution_count": 6,
     "metadata": {},
     "output_type": "execute_result"
    }
   ],
   "source": [
    "from sklearn.impute import SimpleImputer\n",
    "#看完各欄位, 發先都有明顯偏態, 所以將NA值以中位數填補\n",
    "imputer = SimpleImputer(strategy = 'median')\n",
    "#填補器載入各欄位中位數\n",
    "imputer.fit(df)\n",
    "# #將中位數回填df資料中的NA值\n",
    "# train = imputer.transform(train)"
   ]
  },
  {
   "cell_type": "code",
   "execution_count": 7,
   "metadata": {},
   "outputs": [
    {
     "data": {
      "text/html": [
       "<div>\n",
       "<style scoped>\n",
       "    .dataframe tbody tr th:only-of-type {\n",
       "        vertical-align: middle;\n",
       "    }\n",
       "\n",
       "    .dataframe tbody tr th {\n",
       "        vertical-align: top;\n",
       "    }\n",
       "\n",
       "    .dataframe thead th {\n",
       "        text-align: right;\n",
       "    }\n",
       "</style>\n",
       "<table border=\"1\" class=\"dataframe\">\n",
       "  <thead>\n",
       "    <tr style=\"text-align: right;\">\n",
       "      <th></th>\n",
       "      <th>Missing Ratio</th>\n",
       "    </tr>\n",
       "  </thead>\n",
       "  <tbody>\n",
       "    <tr>\n",
       "      <th>deferral_payments</th>\n",
       "      <td>73.287671</td>\n",
       "    </tr>\n",
       "    <tr>\n",
       "      <th>deferred_income</th>\n",
       "      <td>66.438356</td>\n",
       "    </tr>\n",
       "    <tr>\n",
       "      <th>long_term_incentive</th>\n",
       "      <td>54.794521</td>\n",
       "    </tr>\n",
       "    <tr>\n",
       "      <th>bonus</th>\n",
       "      <td>43.835616</td>\n",
       "    </tr>\n",
       "    <tr>\n",
       "      <th>to_messages</th>\n",
       "      <td>41.095890</td>\n",
       "    </tr>\n",
       "    <tr>\n",
       "      <th>shared_receipt_with_poi</th>\n",
       "      <td>41.095890</td>\n",
       "    </tr>\n",
       "    <tr>\n",
       "      <th>from_this_person_to_poi</th>\n",
       "      <td>41.095890</td>\n",
       "    </tr>\n",
       "    <tr>\n",
       "      <th>from_poi_to_this_person</th>\n",
       "      <td>41.095890</td>\n",
       "    </tr>\n",
       "    <tr>\n",
       "      <th>from_messages</th>\n",
       "      <td>41.095890</td>\n",
       "    </tr>\n",
       "    <tr>\n",
       "      <th>other</th>\n",
       "      <td>36.301370</td>\n",
       "    </tr>\n",
       "    <tr>\n",
       "      <th>salary</th>\n",
       "      <td>34.931507</td>\n",
       "    </tr>\n",
       "    <tr>\n",
       "      <th>expenses</th>\n",
       "      <td>34.931507</td>\n",
       "    </tr>\n",
       "    <tr>\n",
       "      <th>exercised_stock_options</th>\n",
       "      <td>30.136986</td>\n",
       "    </tr>\n",
       "    <tr>\n",
       "      <th>restricted_stock</th>\n",
       "      <td>24.657534</td>\n",
       "    </tr>\n",
       "    <tr>\n",
       "      <th>total_payments</th>\n",
       "      <td>14.383562</td>\n",
       "    </tr>\n",
       "    <tr>\n",
       "      <th>total_stock_value</th>\n",
       "      <td>13.698630</td>\n",
       "    </tr>\n",
       "  </tbody>\n",
       "</table>\n",
       "</div>"
      ],
      "text/plain": [
       "                         Missing Ratio\n",
       "deferral_payments            73.287671\n",
       "deferred_income              66.438356\n",
       "long_term_incentive          54.794521\n",
       "bonus                        43.835616\n",
       "to_messages                  41.095890\n",
       "shared_receipt_with_poi      41.095890\n",
       "from_this_person_to_poi      41.095890\n",
       "from_poi_to_this_person      41.095890\n",
       "from_messages                41.095890\n",
       "other                        36.301370\n",
       "salary                       34.931507\n",
       "expenses                     34.931507\n",
       "exercised_stock_options      30.136986\n",
       "restricted_stock             24.657534\n",
       "total_payments               14.383562\n",
       "total_stock_value            13.698630"
      ]
     },
     "metadata": {},
     "output_type": "display_data"
    }
   ],
   "source": [
    "#確認NA值比例\n",
    "na_check(df)"
   ]
  },
  {
   "cell_type": "code",
   "execution_count": 8,
   "metadata": {},
   "outputs": [
    {
     "data": {
      "text/plain": [
       "numpy.ndarray"
      ]
     },
     "execution_count": 8,
     "metadata": {},
     "output_type": "execute_result"
    }
   ],
   "source": [
    "#將中位數回填df資料中的NA值\n",
    "df = imputer.transform(df)\n",
    "type(df)\n",
    "##df變成array"
   ]
  },
  {
   "cell_type": "code",
   "execution_count": 9,
   "metadata": {},
   "outputs": [],
   "source": [
    "#再轉成dataframe\n",
    "df = pd.DataFrame(df)"
   ]
  },
  {
   "cell_type": "code",
   "execution_count": 10,
   "metadata": {},
   "outputs": [
    {
     "data": {
      "text/html": [
       "<div>\n",
       "<style scoped>\n",
       "    .dataframe tbody tr th:only-of-type {\n",
       "        vertical-align: middle;\n",
       "    }\n",
       "\n",
       "    .dataframe tbody tr th {\n",
       "        vertical-align: top;\n",
       "    }\n",
       "\n",
       "    .dataframe thead th {\n",
       "        text-align: right;\n",
       "    }\n",
       "</style>\n",
       "<table border=\"1\" class=\"dataframe\">\n",
       "  <thead>\n",
       "    <tr style=\"text-align: right;\">\n",
       "      <th></th>\n",
       "      <th>Missing Ratio</th>\n",
       "    </tr>\n",
       "  </thead>\n",
       "  <tbody>\n",
       "  </tbody>\n",
       "</table>\n",
       "</div>"
      ],
      "text/plain": [
       "Empty DataFrame\n",
       "Columns: [Missing Ratio]\n",
       "Index: []"
      ]
     },
     "metadata": {},
     "output_type": "display_data"
    }
   ],
   "source": [
    "#再度查看有無NA值\n",
    "na_check(df)"
   ]
  },
  {
   "cell_type": "code",
   "execution_count": 11,
   "metadata": {},
   "outputs": [
    {
     "data": {
      "text/html": [
       "<div>\n",
       "<style scoped>\n",
       "    .dataframe tbody tr th:only-of-type {\n",
       "        vertical-align: middle;\n",
       "    }\n",
       "\n",
       "    .dataframe tbody tr th {\n",
       "        vertical-align: top;\n",
       "    }\n",
       "\n",
       "    .dataframe thead th {\n",
       "        text-align: right;\n",
       "    }\n",
       "</style>\n",
       "<table border=\"1\" class=\"dataframe\">\n",
       "  <thead>\n",
       "    <tr style=\"text-align: right;\">\n",
       "      <th></th>\n",
       "      <th>0</th>\n",
       "      <th>1</th>\n",
       "      <th>2</th>\n",
       "      <th>3</th>\n",
       "      <th>4</th>\n",
       "      <th>5</th>\n",
       "      <th>6</th>\n",
       "      <th>7</th>\n",
       "      <th>8</th>\n",
       "      <th>9</th>\n",
       "      <th>10</th>\n",
       "      <th>11</th>\n",
       "      <th>12</th>\n",
       "      <th>13</th>\n",
       "      <th>14</th>\n",
       "      <th>15</th>\n",
       "    </tr>\n",
       "  </thead>\n",
       "  <tbody>\n",
       "    <tr>\n",
       "      <th>0</th>\n",
       "      <td>1750000.0</td>\n",
       "      <td>227449.0</td>\n",
       "      <td>-3504386.0</td>\n",
       "      <td>19794175.0</td>\n",
       "      <td>46950.0</td>\n",
       "      <td>18.0</td>\n",
       "      <td>42.0</td>\n",
       "      <td>4.0</td>\n",
       "      <td>1617011.0</td>\n",
       "      <td>174839.0</td>\n",
       "      <td>2748364.0</td>\n",
       "      <td>420636.0</td>\n",
       "      <td>864.0</td>\n",
       "      <td>905.0</td>\n",
       "      <td>505050.0</td>\n",
       "      <td>22542539.0</td>\n",
       "    </tr>\n",
       "    <tr>\n",
       "      <th>1</th>\n",
       "      <td>5600000.0</td>\n",
       "      <td>227449.0</td>\n",
       "      <td>-159792.0</td>\n",
       "      <td>19250000.0</td>\n",
       "      <td>29336.0</td>\n",
       "      <td>108.0</td>\n",
       "      <td>88.0</td>\n",
       "      <td>30.0</td>\n",
       "      <td>1920000.0</td>\n",
       "      <td>22122.0</td>\n",
       "      <td>6843672.0</td>\n",
       "      <td>1111258.0</td>\n",
       "      <td>2042.0</td>\n",
       "      <td>3627.0</td>\n",
       "      <td>8682716.0</td>\n",
       "      <td>26093672.0</td>\n",
       "    </tr>\n",
       "    <tr>\n",
       "      <th>2</th>\n",
       "      <td>200000.0</td>\n",
       "      <td>227449.0</td>\n",
       "      <td>-4167.0</td>\n",
       "      <td>1624396.0</td>\n",
       "      <td>22884.0</td>\n",
       "      <td>39.0</td>\n",
       "      <td>13.0</td>\n",
       "      <td>14.0</td>\n",
       "      <td>442035.0</td>\n",
       "      <td>1573324.0</td>\n",
       "      <td>869220.0</td>\n",
       "      <td>211844.0</td>\n",
       "      <td>91.0</td>\n",
       "      <td>225.0</td>\n",
       "      <td>2003885.0</td>\n",
       "      <td>2493616.0</td>\n",
       "    </tr>\n",
       "    <tr>\n",
       "      <th>3</th>\n",
       "      <td>800000.0</td>\n",
       "      <td>227449.0</td>\n",
       "      <td>-159792.0</td>\n",
       "      <td>1310813.5</td>\n",
       "      <td>118134.0</td>\n",
       "      <td>41.0</td>\n",
       "      <td>35.0</td>\n",
       "      <td>8.0</td>\n",
       "      <td>602671.0</td>\n",
       "      <td>907502.0</td>\n",
       "      <td>985032.0</td>\n",
       "      <td>224305.0</td>\n",
       "      <td>740.5</td>\n",
       "      <td>1211.0</td>\n",
       "      <td>2652612.0</td>\n",
       "      <td>985032.0</td>\n",
       "    </tr>\n",
       "    <tr>\n",
       "      <th>4</th>\n",
       "      <td>1250000.0</td>\n",
       "      <td>227449.0</td>\n",
       "      <td>-262500.0</td>\n",
       "      <td>1310813.5</td>\n",
       "      <td>35818.0</td>\n",
       "      <td>144.0</td>\n",
       "      <td>199.0</td>\n",
       "      <td>25.0</td>\n",
       "      <td>375304.0</td>\n",
       "      <td>486.0</td>\n",
       "      <td>126027.0</td>\n",
       "      <td>240189.0</td>\n",
       "      <td>2188.0</td>\n",
       "      <td>2598.0</td>\n",
       "      <td>1639297.0</td>\n",
       "      <td>126027.0</td>\n",
       "    </tr>\n",
       "    <tr>\n",
       "      <th>...</th>\n",
       "      <td>...</td>\n",
       "      <td>...</td>\n",
       "      <td>...</td>\n",
       "      <td>...</td>\n",
       "      <td>...</td>\n",
       "      <td>...</td>\n",
       "      <td>...</td>\n",
       "      <td>...</td>\n",
       "      <td>...</td>\n",
       "      <td>...</td>\n",
       "      <td>...</td>\n",
       "      <td>...</td>\n",
       "      <td>...</td>\n",
       "      <td>...</td>\n",
       "      <td>...</td>\n",
       "      <td>...</td>\n",
       "    </tr>\n",
       "    <tr>\n",
       "      <th>141</th>\n",
       "      <td>1000000.0</td>\n",
       "      <td>227449.0</td>\n",
       "      <td>-159792.0</td>\n",
       "      <td>1465734.0</td>\n",
       "      <td>38559.0</td>\n",
       "      <td>40.0</td>\n",
       "      <td>23.0</td>\n",
       "      <td>8.0</td>\n",
       "      <td>369721.0</td>\n",
       "      <td>425688.0</td>\n",
       "      <td>378082.0</td>\n",
       "      <td>213625.0</td>\n",
       "      <td>1336.0</td>\n",
       "      <td>1607.0</td>\n",
       "      <td>2047593.0</td>\n",
       "      <td>1843816.0</td>\n",
       "    </tr>\n",
       "    <tr>\n",
       "      <th>142</th>\n",
       "      <td>1500000.0</td>\n",
       "      <td>227449.0</td>\n",
       "      <td>-159792.0</td>\n",
       "      <td>1835558.0</td>\n",
       "      <td>46950.0</td>\n",
       "      <td>92.0</td>\n",
       "      <td>28.0</td>\n",
       "      <td>23.0</td>\n",
       "      <td>554422.0</td>\n",
       "      <td>1852186.0</td>\n",
       "      <td>1293424.0</td>\n",
       "      <td>428780.0</td>\n",
       "      <td>2103.0</td>\n",
       "      <td>3187.0</td>\n",
       "      <td>4335388.0</td>\n",
       "      <td>3128982.0</td>\n",
       "    </tr>\n",
       "    <tr>\n",
       "      <th>143</th>\n",
       "      <td>769375.0</td>\n",
       "      <td>504610.0</td>\n",
       "      <td>-159792.0</td>\n",
       "      <td>2218275.0</td>\n",
       "      <td>46950.0</td>\n",
       "      <td>12.0</td>\n",
       "      <td>0.0</td>\n",
       "      <td>0.0</td>\n",
       "      <td>461912.0</td>\n",
       "      <td>52382.0</td>\n",
       "      <td>451740.0</td>\n",
       "      <td>259996.0</td>\n",
       "      <td>23.0</td>\n",
       "      <td>169.0</td>\n",
       "      <td>966522.0</td>\n",
       "      <td>2218275.0</td>\n",
       "    </tr>\n",
       "    <tr>\n",
       "      <th>144</th>\n",
       "      <td>200000.0</td>\n",
       "      <td>204075.0</td>\n",
       "      <td>-159792.0</td>\n",
       "      <td>2549361.0</td>\n",
       "      <td>57727.0</td>\n",
       "      <td>41.0</td>\n",
       "      <td>35.0</td>\n",
       "      <td>8.0</td>\n",
       "      <td>175000.0</td>\n",
       "      <td>2630.0</td>\n",
       "      <td>514847.0</td>\n",
       "      <td>236457.0</td>\n",
       "      <td>740.5</td>\n",
       "      <td>1211.0</td>\n",
       "      <td>875889.0</td>\n",
       "      <td>3064208.0</td>\n",
       "    </tr>\n",
       "    <tr>\n",
       "      <th>145</th>\n",
       "      <td>2600000.0</td>\n",
       "      <td>227449.0</td>\n",
       "      <td>-159792.0</td>\n",
       "      <td>1104054.0</td>\n",
       "      <td>137108.0</td>\n",
       "      <td>48.0</td>\n",
       "      <td>58.0</td>\n",
       "      <td>26.0</td>\n",
       "      <td>694862.0</td>\n",
       "      <td>297353.0</td>\n",
       "      <td>558801.0</td>\n",
       "      <td>370448.0</td>\n",
       "      <td>2228.0</td>\n",
       "      <td>2355.0</td>\n",
       "      <td>4099771.0</td>\n",
       "      <td>1662855.0</td>\n",
       "    </tr>\n",
       "  </tbody>\n",
       "</table>\n",
       "<p>146 rows × 16 columns</p>\n",
       "</div>"
      ],
      "text/plain": [
       "             0         1          2           3         4      5      6     7  \\\n",
       "0    1750000.0  227449.0 -3504386.0  19794175.0   46950.0   18.0   42.0   4.0   \n",
       "1    5600000.0  227449.0  -159792.0  19250000.0   29336.0  108.0   88.0  30.0   \n",
       "2     200000.0  227449.0    -4167.0   1624396.0   22884.0   39.0   13.0  14.0   \n",
       "3     800000.0  227449.0  -159792.0   1310813.5  118134.0   41.0   35.0   8.0   \n",
       "4    1250000.0  227449.0  -262500.0   1310813.5   35818.0  144.0  199.0  25.0   \n",
       "..         ...       ...        ...         ...       ...    ...    ...   ...   \n",
       "141  1000000.0  227449.0  -159792.0   1465734.0   38559.0   40.0   23.0   8.0   \n",
       "142  1500000.0  227449.0  -159792.0   1835558.0   46950.0   92.0   28.0  23.0   \n",
       "143   769375.0  504610.0  -159792.0   2218275.0   46950.0   12.0    0.0   0.0   \n",
       "144   200000.0  204075.0  -159792.0   2549361.0   57727.0   41.0   35.0   8.0   \n",
       "145  2600000.0  227449.0  -159792.0   1104054.0  137108.0   48.0   58.0  26.0   \n",
       "\n",
       "             8          9         10         11      12      13         14  \\\n",
       "0    1617011.0   174839.0  2748364.0   420636.0   864.0   905.0   505050.0   \n",
       "1    1920000.0    22122.0  6843672.0  1111258.0  2042.0  3627.0  8682716.0   \n",
       "2     442035.0  1573324.0   869220.0   211844.0    91.0   225.0  2003885.0   \n",
       "3     602671.0   907502.0   985032.0   224305.0   740.5  1211.0  2652612.0   \n",
       "4     375304.0      486.0   126027.0   240189.0  2188.0  2598.0  1639297.0   \n",
       "..         ...        ...        ...        ...     ...     ...        ...   \n",
       "141   369721.0   425688.0   378082.0   213625.0  1336.0  1607.0  2047593.0   \n",
       "142   554422.0  1852186.0  1293424.0   428780.0  2103.0  3187.0  4335388.0   \n",
       "143   461912.0    52382.0   451740.0   259996.0    23.0   169.0   966522.0   \n",
       "144   175000.0     2630.0   514847.0   236457.0   740.5  1211.0   875889.0   \n",
       "145   694862.0   297353.0   558801.0   370448.0  2228.0  2355.0  4099771.0   \n",
       "\n",
       "             15  \n",
       "0    22542539.0  \n",
       "1    26093672.0  \n",
       "2     2493616.0  \n",
       "3      985032.0  \n",
       "4      126027.0  \n",
       "..          ...  \n",
       "141   1843816.0  \n",
       "142   3128982.0  \n",
       "143   2218275.0  \n",
       "144   3064208.0  \n",
       "145   1662855.0  \n",
       "\n",
       "[146 rows x 16 columns]"
      ]
     },
     "execution_count": 11,
     "metadata": {},
     "output_type": "execute_result"
    }
   ],
   "source": [
    "df"
   ]
  },
  {
   "cell_type": "code",
   "execution_count": 12,
   "metadata": {},
   "outputs": [
    {
     "data": {
      "text/html": [
       "<div>\n",
       "<style scoped>\n",
       "    .dataframe tbody tr th:only-of-type {\n",
       "        vertical-align: middle;\n",
       "    }\n",
       "\n",
       "    .dataframe tbody tr th {\n",
       "        vertical-align: top;\n",
       "    }\n",
       "\n",
       "    .dataframe thead th {\n",
       "        text-align: right;\n",
       "    }\n",
       "</style>\n",
       "<table border=\"1\" class=\"dataframe\">\n",
       "  <thead>\n",
       "    <tr style=\"text-align: right;\">\n",
       "      <th></th>\n",
       "      <th>0</th>\n",
       "      <th>1</th>\n",
       "      <th>2</th>\n",
       "      <th>3</th>\n",
       "      <th>4</th>\n",
       "      <th>5</th>\n",
       "      <th>6</th>\n",
       "      <th>7</th>\n",
       "      <th>8</th>\n",
       "      <th>9</th>\n",
       "      <th>10</th>\n",
       "      <th>11</th>\n",
       "      <th>12</th>\n",
       "      <th>13</th>\n",
       "      <th>14</th>\n",
       "      <th>15</th>\n",
       "    </tr>\n",
       "  </thead>\n",
       "  <tbody>\n",
       "    <tr>\n",
       "      <th>count</th>\n",
       "      <td>1.460000e+02</td>\n",
       "      <td>1.460000e+02</td>\n",
       "      <td>1.460000e+02</td>\n",
       "      <td>1.460000e+02</td>\n",
       "      <td>1.460000e+02</td>\n",
       "      <td>146.000000</td>\n",
       "      <td>146.000000</td>\n",
       "      <td>146.000000</td>\n",
       "      <td>1.460000e+02</td>\n",
       "      <td>1.460000e+02</td>\n",
       "      <td>1.460000e+02</td>\n",
       "      <td>1.460000e+02</td>\n",
       "      <td>146.000000</td>\n",
       "      <td>146.000000</td>\n",
       "      <td>1.460000e+02</td>\n",
       "      <td>1.460000e+02</td>\n",
       "    </tr>\n",
       "    <tr>\n",
       "      <th>mean</th>\n",
       "      <td>1.670735e+06</td>\n",
       "      <td>6.054886e+05</td>\n",
       "      <td>-4.889254e+05</td>\n",
       "      <td>4.577776e+06</td>\n",
       "      <td>8.714861e+04</td>\n",
       "      <td>375.452055</td>\n",
       "      <td>52.609589</td>\n",
       "      <td>27.575342</td>\n",
       "      <td>9.068949e+05</td>\n",
       "      <td>6.044472e+05</td>\n",
       "      <td>1.860645e+06</td>\n",
       "      <td>4.566319e+05</td>\n",
       "      <td>997.301370</td>\n",
       "      <td>1719.260274</td>\n",
       "      <td>4.509042e+06</td>\n",
       "      <td>5.997096e+06</td>\n",
       "    </tr>\n",
       "    <tr>\n",
       "      <th>std</th>\n",
       "      <td>8.047011e+06</td>\n",
       "      <td>2.716204e+06</td>\n",
       "      <td>2.362197e+06</td>\n",
       "      <td>2.601351e+07</td>\n",
       "      <td>4.305941e+05</td>\n",
       "      <td>1437.174998</td>\n",
       "      <td>68.210867</td>\n",
       "      <td>78.357081</td>\n",
       "      <td>4.011885e+06</td>\n",
       "      <td>3.679386e+06</td>\n",
       "      <td>1.088369e+07</td>\n",
       "      <td>2.191873e+06</td>\n",
       "      <td>927.488807</td>\n",
       "      <td>2022.788673</td>\n",
       "      <td>2.691150e+07</td>\n",
       "      <td>3.622426e+07</td>\n",
       "    </tr>\n",
       "    <tr>\n",
       "      <th>min</th>\n",
       "      <td>7.000000e+04</td>\n",
       "      <td>-1.025000e+05</td>\n",
       "      <td>-2.799289e+07</td>\n",
       "      <td>3.285000e+03</td>\n",
       "      <td>1.480000e+02</td>\n",
       "      <td>12.000000</td>\n",
       "      <td>0.000000</td>\n",
       "      <td>0.000000</td>\n",
       "      <td>6.922300e+04</td>\n",
       "      <td>2.000000e+00</td>\n",
       "      <td>-2.604490e+06</td>\n",
       "      <td>4.770000e+02</td>\n",
       "      <td>2.000000</td>\n",
       "      <td>57.000000</td>\n",
       "      <td>1.480000e+02</td>\n",
       "      <td>-4.409300e+04</td>\n",
       "    </tr>\n",
       "    <tr>\n",
       "      <th>25%</th>\n",
       "      <td>7.125000e+05</td>\n",
       "      <td>2.274490e+05</td>\n",
       "      <td>-1.597920e+05</td>\n",
       "      <td>7.578650e+05</td>\n",
       "      <td>3.384850e+04</td>\n",
       "      <td>36.000000</td>\n",
       "      <td>25.750000</td>\n",
       "      <td>6.000000</td>\n",
       "      <td>4.420350e+05</td>\n",
       "      <td>2.686500e+03</td>\n",
       "      <td>3.605280e+05</td>\n",
       "      <td>2.398005e+05</td>\n",
       "      <td>591.500000</td>\n",
       "      <td>904.250000</td>\n",
       "      <td>5.544675e+05</td>\n",
       "      <td>6.129080e+05</td>\n",
       "    </tr>\n",
       "    <tr>\n",
       "      <th>50%</th>\n",
       "      <td>7.693750e+05</td>\n",
       "      <td>2.274490e+05</td>\n",
       "      <td>-1.597920e+05</td>\n",
       "      <td>1.310814e+06</td>\n",
       "      <td>4.695000e+04</td>\n",
       "      <td>41.000000</td>\n",
       "      <td>35.000000</td>\n",
       "      <td>8.000000</td>\n",
       "      <td>4.420350e+05</td>\n",
       "      <td>5.238200e+04</td>\n",
       "      <td>4.517400e+05</td>\n",
       "      <td>2.599960e+05</td>\n",
       "      <td>740.500000</td>\n",
       "      <td>1211.000000</td>\n",
       "      <td>1.101393e+06</td>\n",
       "      <td>1.102872e+06</td>\n",
       "    </tr>\n",
       "    <tr>\n",
       "      <th>75%</th>\n",
       "      <td>8.000000e+05</td>\n",
       "      <td>2.274490e+05</td>\n",
       "      <td>-1.597920e+05</td>\n",
       "      <td>1.714221e+06</td>\n",
       "      <td>5.374075e+04</td>\n",
       "      <td>51.250000</td>\n",
       "      <td>40.750000</td>\n",
       "      <td>13.750000</td>\n",
       "      <td>4.420350e+05</td>\n",
       "      <td>1.506065e+05</td>\n",
       "      <td>8.145280e+05</td>\n",
       "      <td>2.708505e+05</td>\n",
       "      <td>893.500000</td>\n",
       "      <td>1585.750000</td>\n",
       "      <td>1.968287e+06</td>\n",
       "      <td>2.319991e+06</td>\n",
       "    </tr>\n",
       "    <tr>\n",
       "      <th>max</th>\n",
       "      <td>9.734362e+07</td>\n",
       "      <td>3.208340e+07</td>\n",
       "      <td>-8.330000e+02</td>\n",
       "      <td>3.117640e+08</td>\n",
       "      <td>5.235198e+06</td>\n",
       "      <td>14368.000000</td>\n",
       "      <td>528.000000</td>\n",
       "      <td>609.000000</td>\n",
       "      <td>4.852193e+07</td>\n",
       "      <td>4.266759e+07</td>\n",
       "      <td>1.303223e+08</td>\n",
       "      <td>2.670423e+07</td>\n",
       "      <td>5521.000000</td>\n",
       "      <td>15149.000000</td>\n",
       "      <td>3.098866e+08</td>\n",
       "      <td>4.345095e+08</td>\n",
       "    </tr>\n",
       "  </tbody>\n",
       "</table>\n",
       "</div>"
      ],
      "text/plain": [
       "                 0             1             2             3             4   \\\n",
       "count  1.460000e+02  1.460000e+02  1.460000e+02  1.460000e+02  1.460000e+02   \n",
       "mean   1.670735e+06  6.054886e+05 -4.889254e+05  4.577776e+06  8.714861e+04   \n",
       "std    8.047011e+06  2.716204e+06  2.362197e+06  2.601351e+07  4.305941e+05   \n",
       "min    7.000000e+04 -1.025000e+05 -2.799289e+07  3.285000e+03  1.480000e+02   \n",
       "25%    7.125000e+05  2.274490e+05 -1.597920e+05  7.578650e+05  3.384850e+04   \n",
       "50%    7.693750e+05  2.274490e+05 -1.597920e+05  1.310814e+06  4.695000e+04   \n",
       "75%    8.000000e+05  2.274490e+05 -1.597920e+05  1.714221e+06  5.374075e+04   \n",
       "max    9.734362e+07  3.208340e+07 -8.330000e+02  3.117640e+08  5.235198e+06   \n",
       "\n",
       "                 5           6           7             8             9   \\\n",
       "count    146.000000  146.000000  146.000000  1.460000e+02  1.460000e+02   \n",
       "mean     375.452055   52.609589   27.575342  9.068949e+05  6.044472e+05   \n",
       "std     1437.174998   68.210867   78.357081  4.011885e+06  3.679386e+06   \n",
       "min       12.000000    0.000000    0.000000  6.922300e+04  2.000000e+00   \n",
       "25%       36.000000   25.750000    6.000000  4.420350e+05  2.686500e+03   \n",
       "50%       41.000000   35.000000    8.000000  4.420350e+05  5.238200e+04   \n",
       "75%       51.250000   40.750000   13.750000  4.420350e+05  1.506065e+05   \n",
       "max    14368.000000  528.000000  609.000000  4.852193e+07  4.266759e+07   \n",
       "\n",
       "                 10            11           12            13            14  \\\n",
       "count  1.460000e+02  1.460000e+02   146.000000    146.000000  1.460000e+02   \n",
       "mean   1.860645e+06  4.566319e+05   997.301370   1719.260274  4.509042e+06   \n",
       "std    1.088369e+07  2.191873e+06   927.488807   2022.788673  2.691150e+07   \n",
       "min   -2.604490e+06  4.770000e+02     2.000000     57.000000  1.480000e+02   \n",
       "25%    3.605280e+05  2.398005e+05   591.500000    904.250000  5.544675e+05   \n",
       "50%    4.517400e+05  2.599960e+05   740.500000   1211.000000  1.101393e+06   \n",
       "75%    8.145280e+05  2.708505e+05   893.500000   1585.750000  1.968287e+06   \n",
       "max    1.303223e+08  2.670423e+07  5521.000000  15149.000000  3.098866e+08   \n",
       "\n",
       "                 15  \n",
       "count  1.460000e+02  \n",
       "mean   5.997096e+06  \n",
       "std    3.622426e+07  \n",
       "min   -4.409300e+04  \n",
       "25%    6.129080e+05  \n",
       "50%    1.102872e+06  \n",
       "75%    2.319991e+06  \n",
       "max    4.345095e+08  "
      ]
     },
     "execution_count": 12,
     "metadata": {},
     "output_type": "execute_result"
    }
   ],
   "source": [
    "df.describe()"
   ]
  },
  {
   "cell_type": "markdown",
   "metadata": {},
   "source": [
    "### 處理離群值"
   ]
  },
  {
   "cell_type": "code",
   "execution_count": 13,
   "metadata": {},
   "outputs": [
    {
     "name": "stdout",
     "output_type": "stream",
     "text": [
      "1670734.506849315 8047011.284904227\n"
     ]
    }
   ],
   "source": [
    "print(df[0].mean(), df[0].std())"
   ]
  },
  {
   "cell_type": "code",
   "execution_count": 14,
   "metadata": {},
   "outputs": [],
   "source": [
    "outlier_under0 = df[0].mean() - 3* df[0].std()\n",
    "outlier_upper0 = df[0].mean() + 3* df[0].std()\n",
    "#clip-比outlier_under0小用outlier_under0取代, 比outlier_upper0大用outlier_upper0取代\n",
    "df[0] = df[0].clip(outlier_under0, outlier_upper0)"
   ]
  },
  {
   "cell_type": "code",
   "execution_count": 15,
   "metadata": {},
   "outputs": [
    {
     "name": "stdout",
     "output_type": "stream",
     "text": [
      "1180790.3243942603 2325019.412694041\n"
     ]
    }
   ],
   "source": [
    "print(df[0].mean(), df[0].std())"
   ]
  },
  {
   "cell_type": "code",
   "execution_count": 16,
   "metadata": {},
   "outputs": [
    {
     "name": "stdout",
     "output_type": "stream",
     "text": [
      "605488.595890411 2716204.2385775135\n"
     ]
    }
   ],
   "source": [
    "print(df[1].mean(), df[1].std())"
   ]
  },
  {
   "cell_type": "code",
   "execution_count": 17,
   "metadata": {},
   "outputs": [],
   "source": [
    "outlier_under1 = df[1].mean() - 3* df[1].std()\n",
    "outlier_upper1 = df[1].mean() + 3* df[1].std()\n",
    "df[1] = df[1].clip(outlier_under1, outlier_upper1)"
   ]
  },
  {
   "cell_type": "code",
   "execution_count": 18,
   "metadata": {},
   "outputs": [
    {
     "name": "stdout",
     "output_type": "stream",
     "text": [
      "445698.9062439928 988169.4899051384\n"
     ]
    }
   ],
   "source": [
    "print(df[1].mean(), df[1].std())"
   ]
  },
  {
   "cell_type": "code",
   "execution_count": 19,
   "metadata": {},
   "outputs": [
    {
     "name": "stdout",
     "output_type": "stream",
     "text": [
      "-488925.38356164383 2362196.9055702807\n"
     ]
    }
   ],
   "source": [
    "print(df[2].mean(), df[2].std())"
   ]
  },
  {
   "cell_type": "code",
   "execution_count": 20,
   "metadata": {},
   "outputs": [],
   "source": [
    "outlier_under2 = df[2].mean() - 3* df[2].std()\n",
    "outlier_upper2 = df[2].mean() + 3* df[2].std()\n",
    "df[2] = df[2].clip(outlier_under2, outlier_upper2)"
   ]
  },
  {
   "cell_type": "code",
   "execution_count": 21,
   "metadata": {},
   "outputs": [
    {
     "name": "stdout",
     "output_type": "stream",
     "text": [
      "-349080.35000186635 830424.2242718436\n"
     ]
    }
   ],
   "source": [
    "print(df[2].mean(), df[2].std())"
   ]
  },
  {
   "cell_type": "code",
   "execution_count": 22,
   "metadata": {},
   "outputs": [
    {
     "name": "stdout",
     "output_type": "stream",
     "text": [
      "4577775.883561644 26013506.559099928\n"
     ]
    }
   ],
   "source": [
    "print(df[3].mean(), df[3].std())"
   ]
  },
  {
   "cell_type": "code",
   "execution_count": 23,
   "metadata": {},
   "outputs": [],
   "source": [
    "outlier_under3 = df[3].mean() - 3* df[3].std()\n",
    "outlier_upper3 = df[3].mean() + 3* df[3].std()\n",
    "df[3] = df[3].clip(outlier_under3, outlier_upper3)"
   ]
  },
  {
   "cell_type": "code",
   "execution_count": 24,
   "metadata": {},
   "outputs": [
    {
     "name": "stdout",
     "output_type": "stream",
     "text": [
      "3008284.757266174 8089657.160968359\n"
     ]
    }
   ],
   "source": [
    "print(df[3].mean(), df[3].std())"
   ]
  },
  {
   "cell_type": "code",
   "execution_count": 25,
   "metadata": {},
   "outputs": [
    {
     "name": "stdout",
     "output_type": "stream",
     "text": [
      "87148.6095890411 430594.121648656\n"
     ]
    }
   ],
   "source": [
    "print(df[4].mean(), df[4].std())"
   ]
  },
  {
   "cell_type": "code",
   "execution_count": 26,
   "metadata": {},
   "outputs": [],
   "source": [
    "outlier_under4 = df[4].mean() - 3* df[4].std()\n",
    "outlier_upper4 = df[4].mean() + 3* df[4].std()\n",
    "df[4] = df[4].clip(outlier_under4, outlier_upper4)"
   ]
  },
  {
   "cell_type": "code",
   "execution_count": 27,
   "metadata": {},
   "outputs": [
    {
     "name": "stdout",
     "output_type": "stream",
     "text": [
      "60735.82174339047 115939.12020805883\n"
     ]
    }
   ],
   "source": [
    "print(df[4].mean(), df[4].std())"
   ]
  },
  {
   "cell_type": "code",
   "execution_count": 28,
   "metadata": {},
   "outputs": [
    {
     "name": "stdout",
     "output_type": "stream",
     "text": [
      "375.45205479452056 1437.1749975376947\n"
     ]
    }
   ],
   "source": [
    "print(df[5].mean(), df[5].std())"
   ]
  },
  {
   "cell_type": "code",
   "execution_count": 29,
   "metadata": {},
   "outputs": [],
   "source": [
    "outlier_under5 = df[5].mean() - 3* df[5].std()\n",
    "outlier_upper5 = df[5].mean() + 3* df[5].std()\n",
    "df[5] = df[5].clip(outlier_under5, outlier_upper5)"
   ]
  },
  {
   "cell_type": "code",
   "execution_count": 30,
   "metadata": {},
   "outputs": [
    {
     "name": "stdout",
     "output_type": "stream",
     "text": [
      "294.9517403754466 827.0626271157283\n"
     ]
    }
   ],
   "source": [
    "print(df[5].mean(), df[5].std())"
   ]
  },
  {
   "cell_type": "code",
   "execution_count": 31,
   "metadata": {},
   "outputs": [
    {
     "name": "stdout",
     "output_type": "stream",
     "text": [
      "52.60958904109589 68.21086709736782\n"
     ]
    }
   ],
   "source": [
    "print(df[6].mean(), df[6].std())"
   ]
  },
  {
   "cell_type": "code",
   "execution_count": 32,
   "metadata": {},
   "outputs": [],
   "source": [
    "outlier_under6 = df[6].mean() - 3* df[6].std()\n",
    "outlier_upper6 = df[6].mean() + 3* df[6].std()\n",
    "df[6] = df[6].clip(outlier_under6, outlier_upper6)"
   ]
  },
  {
   "cell_type": "code",
   "execution_count": 33,
   "metadata": {},
   "outputs": [
    {
     "name": "stdout",
     "output_type": "stream",
     "text": [
      "50.427975210043826 56.81196505486255\n"
     ]
    }
   ],
   "source": [
    "print(df[6].mean(), df[6].std())"
   ]
  },
  {
   "cell_type": "code",
   "execution_count": 34,
   "metadata": {},
   "outputs": [
    {
     "name": "stdout",
     "output_type": "stream",
     "text": [
      "27.575342465753426 78.35708146299956\n"
     ]
    }
   ],
   "source": [
    "print(df[7].mean(), df[7].std())"
   ]
  },
  {
   "cell_type": "code",
   "execution_count": 35,
   "metadata": {},
   "outputs": [],
   "source": [
    "outlier_under7 = df[7].mean() - 3* df[7].std()\n",
    "outlier_upper7 = df[7].mean() + 3* df[7].std()\n",
    "df[7] = df[7].clip(outlier_under7, outlier_upper7)"
   ]
  },
  {
   "cell_type": "code",
   "execution_count": 36,
   "metadata": {},
   "outputs": [
    {
     "name": "stdout",
     "output_type": "stream",
     "text": [
      "22.4903174480754 50.15912740704077\n"
     ]
    }
   ],
   "source": [
    "print(df[7].mean(), df[7].std())"
   ]
  },
  {
   "cell_type": "code",
   "execution_count": 37,
   "metadata": {},
   "outputs": [
    {
     "name": "stdout",
     "output_type": "stream",
     "text": [
      "906894.904109589 4011885.322810267\n"
     ]
    }
   ],
   "source": [
    "print(df[8].mean(), df[8].std())"
   ]
  },
  {
   "cell_type": "code",
   "execution_count": 38,
   "metadata": {},
   "outputs": [],
   "source": [
    "outlier_under8 = df[8].mean() - 3* df[8].std()\n",
    "outlier_upper8 = df[8].mean() + 3* df[8].std()\n",
    "df[8] = df[8].clip(outlier_under8, outlier_upper8)"
   ]
  },
  {
   "cell_type": "code",
   "execution_count": 39,
   "metadata": {},
   "outputs": [
    {
     "name": "stdout",
     "output_type": "stream",
     "text": [
      "663200.5402228794 1182640.5332582819\n"
     ]
    }
   ],
   "source": [
    "print(df[8].mean(), df[8].std())"
   ]
  },
  {
   "cell_type": "code",
   "execution_count": 40,
   "metadata": {},
   "outputs": [
    {
     "name": "stdout",
     "output_type": "stream",
     "text": [
      "604447.1780821917 3679386.153667983\n"
     ]
    }
   ],
   "source": [
    "print(df[9].mean(), df[9].std())"
   ]
  },
  {
   "cell_type": "code",
   "execution_count": 41,
   "metadata": {},
   "outputs": [],
   "source": [
    "outlier_under9 = df[9].mean() - 3* df[9].std()\n",
    "outlier_upper9 = df[9].mean() + 3* df[9].std()\n",
    "df[9] = df[9].clip(outlier_under9, outlier_upper9)"
   ]
  },
  {
   "cell_type": "code",
   "execution_count": 42,
   "metadata": {},
   "outputs": [
    {
     "name": "stdout",
     "output_type": "stream",
     "text": [
      "391947.2920485352 1459648.5044118532\n"
     ]
    }
   ],
   "source": [
    "print(df[9].mean(), df[9].std())"
   ]
  },
  {
   "cell_type": "code",
   "execution_count": 43,
   "metadata": {},
   "outputs": [
    {
     "name": "stdout",
     "output_type": "stream",
     "text": [
      "1860644.9657534247 10883692.955060324\n"
     ]
    }
   ],
   "source": [
    "print(df[10].mean(), df[10].std())"
   ]
  },
  {
   "cell_type": "code",
   "execution_count": 44,
   "metadata": {},
   "outputs": [],
   "source": [
    "outlier_under10 = df[10].mean() - 3* df[10].std()\n",
    "outlier_upper10 = df[10].mean() + 3* df[10].std()\n",
    "df[10] = df[10].clip(outlier_under10, outlier_upper10)"
   ]
  },
  {
   "cell_type": "code",
   "execution_count": 45,
   "metadata": {},
   "outputs": [
    {
     "name": "stdout",
     "output_type": "stream",
     "text": [
      "1204408.1495269479 3400571.915732899\n"
     ]
    }
   ],
   "source": [
    "print(df[10].mean(), df[10].std())"
   ]
  },
  {
   "cell_type": "code",
   "execution_count": 46,
   "metadata": {},
   "outputs": [
    {
     "name": "stdout",
     "output_type": "stream",
     "text": [
      "456631.87671232875 2191873.3043484525\n"
     ]
    }
   ],
   "source": [
    "print(df[11].mean(), df[11].std())"
   ]
  },
  {
   "cell_type": "code",
   "execution_count": 47,
   "metadata": {},
   "outputs": [],
   "source": [
    "outlier_under11 = df[11].mean() - 3* df[11].std()\n",
    "outlier_upper11 = df[11].mean() + 3* df[11].std()\n",
    "df[11] = df[11].clip(outlier_under11, outlier_upper11)"
   ]
  },
  {
   "cell_type": "code",
   "execution_count": 48,
   "metadata": {},
   "outputs": [
    {
     "name": "stdout",
     "output_type": "stream",
     "text": [
      "321892.3067791622 577011.1645433352\n"
     ]
    }
   ],
   "source": [
    "print(df[11].mean(), df[11].std())"
   ]
  },
  {
   "cell_type": "code",
   "execution_count": 49,
   "metadata": {},
   "outputs": [
    {
     "name": "stdout",
     "output_type": "stream",
     "text": [
      "997.3013698630137 927.4888074042616\n"
     ]
    }
   ],
   "source": [
    "print(df[12].mean(), df[12].std())"
   ]
  },
  {
   "cell_type": "code",
   "execution_count": 50,
   "metadata": {},
   "outputs": [],
   "source": [
    "outlier_under12 = df[12].mean() - 3* df[12].std()\n",
    "outlier_upper12 = df[12].mean() + 3* df[12].std()\n",
    "df[12] = df[12].clip(outlier_under12, outlier_upper12)"
   ]
  },
  {
   "cell_type": "code",
   "execution_count": 51,
   "metadata": {},
   "outputs": [
    {
     "name": "stdout",
     "output_type": "stream",
     "text": [
      "978.048432659611 852.5591402294692\n"
     ]
    }
   ],
   "source": [
    "print(df[12].mean(), df[12].std())"
   ]
  },
  {
   "cell_type": "code",
   "execution_count": 52,
   "metadata": {},
   "outputs": [
    {
     "name": "stdout",
     "output_type": "stream",
     "text": [
      "1719.2602739726028 2022.788672735956\n"
     ]
    }
   ],
   "source": [
    "print(df[13].mean(), df[13].std())"
   ]
  },
  {
   "cell_type": "code",
   "execution_count": 53,
   "metadata": {},
   "outputs": [],
   "source": [
    "outlier_under13 = df[13].mean() - 3* df[13].std()\n",
    "outlier_upper13 = df[13].mean() + 3* df[13].std()\n",
    "df[13] = df[13].clip(outlier_under13, outlier_upper13)"
   ]
  },
  {
   "cell_type": "code",
   "execution_count": 54,
   "metadata": {},
   "outputs": [
    {
     "name": "stdout",
     "output_type": "stream",
     "text": [
      "1629.8870217035746 1563.8077608132212\n"
     ]
    }
   ],
   "source": [
    "print(df[13].mean(), df[13].std())"
   ]
  },
  {
   "cell_type": "code",
   "execution_count": 55,
   "metadata": {},
   "outputs": [
    {
     "name": "stdout",
     "output_type": "stream",
     "text": [
      "4509041.534246575 26911497.027707174\n"
     ]
    }
   ],
   "source": [
    "print(df[14].mean(), df[14].std())"
   ]
  },
  {
   "cell_type": "code",
   "execution_count": 56,
   "metadata": {},
   "outputs": [],
   "source": [
    "outlier_under14 = df[14].mean() - 3* df[14].std()\n",
    "outlier_upper14 = df[14].mean() + 3* df[14].std()\n",
    "df[14] = df[14].clip(outlier_under14, outlier_upper14)"
   ]
  },
  {
   "cell_type": "code",
   "execution_count": 57,
   "metadata": {},
   "outputs": [
    {
     "name": "stdout",
     "output_type": "stream",
     "text": [
      "2844936.6522927135 10027021.554808505\n"
     ]
    }
   ],
   "source": [
    "print(df[14].mean(), df[14].std())"
   ]
  },
  {
   "cell_type": "code",
   "execution_count": 58,
   "metadata": {},
   "outputs": [
    {
     "name": "stdout",
     "output_type": "stream",
     "text": [
      "5997096.5 36224264.89428919\n"
     ]
    }
   ],
   "source": [
    "print(df[15].mean(), df[15].std())"
   ]
  },
  {
   "cell_type": "code",
   "execution_count": 59,
   "metadata": {},
   "outputs": [],
   "source": [
    "outlier_under15 = df[15].mean() - 3* df[15].std()\n",
    "outlier_upper15 = df[15].mean() + 3* df[15].std()\n",
    "df[15] = df[15].clip(outlier_under15, outlier_upper15)"
   ]
  },
  {
   "cell_type": "code",
   "execution_count": 60,
   "metadata": {},
   "outputs": [
    {
     "name": "stdout",
     "output_type": "stream",
     "text": [
      "3806414.172485394 11065584.47118006\n"
     ]
    }
   ],
   "source": [
    "print(df[15].mean(), df[15].std())"
   ]
  },
  {
   "cell_type": "code",
   "execution_count": 61,
   "metadata": {},
   "outputs": [
    {
     "data": {
      "text/html": [
       "<div>\n",
       "<style scoped>\n",
       "    .dataframe tbody tr th:only-of-type {\n",
       "        vertical-align: middle;\n",
       "    }\n",
       "\n",
       "    .dataframe tbody tr th {\n",
       "        vertical-align: top;\n",
       "    }\n",
       "\n",
       "    .dataframe thead th {\n",
       "        text-align: right;\n",
       "    }\n",
       "</style>\n",
       "<table border=\"1\" class=\"dataframe\">\n",
       "  <thead>\n",
       "    <tr style=\"text-align: right;\">\n",
       "      <th></th>\n",
       "      <th>0</th>\n",
       "      <th>1</th>\n",
       "      <th>2</th>\n",
       "      <th>3</th>\n",
       "      <th>4</th>\n",
       "      <th>5</th>\n",
       "      <th>6</th>\n",
       "      <th>7</th>\n",
       "      <th>8</th>\n",
       "      <th>9</th>\n",
       "      <th>10</th>\n",
       "      <th>11</th>\n",
       "      <th>12</th>\n",
       "      <th>13</th>\n",
       "      <th>14</th>\n",
       "      <th>15</th>\n",
       "    </tr>\n",
       "  </thead>\n",
       "  <tbody>\n",
       "    <tr>\n",
       "      <th>count</th>\n",
       "      <td>1.460000e+02</td>\n",
       "      <td>1.460000e+02</td>\n",
       "      <td>1.460000e+02</td>\n",
       "      <td>1.460000e+02</td>\n",
       "      <td>1.460000e+02</td>\n",
       "      <td>146.000000</td>\n",
       "      <td>146.000000</td>\n",
       "      <td>146.000000</td>\n",
       "      <td>1.460000e+02</td>\n",
       "      <td>1.460000e+02</td>\n",
       "      <td>1.460000e+02</td>\n",
       "      <td>1.460000e+02</td>\n",
       "      <td>146.000000</td>\n",
       "      <td>146.000000</td>\n",
       "      <td>1.460000e+02</td>\n",
       "      <td>1.460000e+02</td>\n",
       "    </tr>\n",
       "    <tr>\n",
       "      <th>mean</th>\n",
       "      <td>1.180790e+06</td>\n",
       "      <td>4.456989e+05</td>\n",
       "      <td>-3.490804e+05</td>\n",
       "      <td>3.008285e+06</td>\n",
       "      <td>6.073582e+04</td>\n",
       "      <td>294.951740</td>\n",
       "      <td>50.427975</td>\n",
       "      <td>22.490317</td>\n",
       "      <td>6.632005e+05</td>\n",
       "      <td>3.919473e+05</td>\n",
       "      <td>1.204408e+06</td>\n",
       "      <td>3.218923e+05</td>\n",
       "      <td>978.048433</td>\n",
       "      <td>1629.887022</td>\n",
       "      <td>2.844937e+06</td>\n",
       "      <td>3.806414e+06</td>\n",
       "    </tr>\n",
       "    <tr>\n",
       "      <th>std</th>\n",
       "      <td>2.325019e+06</td>\n",
       "      <td>9.881695e+05</td>\n",
       "      <td>8.304242e+05</td>\n",
       "      <td>8.089657e+06</td>\n",
       "      <td>1.159391e+05</td>\n",
       "      <td>827.062627</td>\n",
       "      <td>56.811965</td>\n",
       "      <td>50.159127</td>\n",
       "      <td>1.182641e+06</td>\n",
       "      <td>1.459649e+06</td>\n",
       "      <td>3.400572e+06</td>\n",
       "      <td>5.770112e+05</td>\n",
       "      <td>852.559140</td>\n",
       "      <td>1563.807761</td>\n",
       "      <td>1.002702e+07</td>\n",
       "      <td>1.106558e+07</td>\n",
       "    </tr>\n",
       "    <tr>\n",
       "      <th>min</th>\n",
       "      <td>7.000000e+04</td>\n",
       "      <td>-1.025000e+05</td>\n",
       "      <td>-7.575516e+06</td>\n",
       "      <td>3.285000e+03</td>\n",
       "      <td>1.480000e+02</td>\n",
       "      <td>12.000000</td>\n",
       "      <td>0.000000</td>\n",
       "      <td>0.000000</td>\n",
       "      <td>6.922300e+04</td>\n",
       "      <td>2.000000e+00</td>\n",
       "      <td>-2.604490e+06</td>\n",
       "      <td>4.770000e+02</td>\n",
       "      <td>2.000000</td>\n",
       "      <td>57.000000</td>\n",
       "      <td>1.480000e+02</td>\n",
       "      <td>-4.409300e+04</td>\n",
       "    </tr>\n",
       "    <tr>\n",
       "      <th>25%</th>\n",
       "      <td>7.125000e+05</td>\n",
       "      <td>2.274490e+05</td>\n",
       "      <td>-1.597920e+05</td>\n",
       "      <td>7.578650e+05</td>\n",
       "      <td>3.384850e+04</td>\n",
       "      <td>36.000000</td>\n",
       "      <td>25.750000</td>\n",
       "      <td>6.000000</td>\n",
       "      <td>4.420350e+05</td>\n",
       "      <td>2.686500e+03</td>\n",
       "      <td>3.605280e+05</td>\n",
       "      <td>2.398005e+05</td>\n",
       "      <td>591.500000</td>\n",
       "      <td>904.250000</td>\n",
       "      <td>5.544675e+05</td>\n",
       "      <td>6.129080e+05</td>\n",
       "    </tr>\n",
       "    <tr>\n",
       "      <th>50%</th>\n",
       "      <td>7.693750e+05</td>\n",
       "      <td>2.274490e+05</td>\n",
       "      <td>-1.597920e+05</td>\n",
       "      <td>1.310814e+06</td>\n",
       "      <td>4.695000e+04</td>\n",
       "      <td>41.000000</td>\n",
       "      <td>35.000000</td>\n",
       "      <td>8.000000</td>\n",
       "      <td>4.420350e+05</td>\n",
       "      <td>5.238200e+04</td>\n",
       "      <td>4.517400e+05</td>\n",
       "      <td>2.599960e+05</td>\n",
       "      <td>740.500000</td>\n",
       "      <td>1211.000000</td>\n",
       "      <td>1.101393e+06</td>\n",
       "      <td>1.102872e+06</td>\n",
       "    </tr>\n",
       "    <tr>\n",
       "      <th>75%</th>\n",
       "      <td>8.000000e+05</td>\n",
       "      <td>2.274490e+05</td>\n",
       "      <td>-1.597920e+05</td>\n",
       "      <td>1.714221e+06</td>\n",
       "      <td>5.374075e+04</td>\n",
       "      <td>51.250000</td>\n",
       "      <td>40.750000</td>\n",
       "      <td>13.750000</td>\n",
       "      <td>4.420350e+05</td>\n",
       "      <td>1.506065e+05</td>\n",
       "      <td>8.145280e+05</td>\n",
       "      <td>2.708505e+05</td>\n",
       "      <td>893.500000</td>\n",
       "      <td>1585.750000</td>\n",
       "      <td>1.968287e+06</td>\n",
       "      <td>2.319991e+06</td>\n",
       "    </tr>\n",
       "    <tr>\n",
       "      <th>max</th>\n",
       "      <td>2.581177e+07</td>\n",
       "      <td>8.754101e+06</td>\n",
       "      <td>-8.330000e+02</td>\n",
       "      <td>8.261830e+07</td>\n",
       "      <td>1.378931e+06</td>\n",
       "      <td>4686.977047</td>\n",
       "      <td>257.242190</td>\n",
       "      <td>262.646587</td>\n",
       "      <td>1.294255e+07</td>\n",
       "      <td>1.164261e+07</td>\n",
       "      <td>3.451172e+07</td>\n",
       "      <td>7.032252e+06</td>\n",
       "      <td>3779.767792</td>\n",
       "      <td>7787.626292</td>\n",
       "      <td>8.524353e+07</td>\n",
       "      <td>1.146699e+08</td>\n",
       "    </tr>\n",
       "  </tbody>\n",
       "</table>\n",
       "</div>"
      ],
      "text/plain": [
       "                 0             1             2             3             4   \\\n",
       "count  1.460000e+02  1.460000e+02  1.460000e+02  1.460000e+02  1.460000e+02   \n",
       "mean   1.180790e+06  4.456989e+05 -3.490804e+05  3.008285e+06  6.073582e+04   \n",
       "std    2.325019e+06  9.881695e+05  8.304242e+05  8.089657e+06  1.159391e+05   \n",
       "min    7.000000e+04 -1.025000e+05 -7.575516e+06  3.285000e+03  1.480000e+02   \n",
       "25%    7.125000e+05  2.274490e+05 -1.597920e+05  7.578650e+05  3.384850e+04   \n",
       "50%    7.693750e+05  2.274490e+05 -1.597920e+05  1.310814e+06  4.695000e+04   \n",
       "75%    8.000000e+05  2.274490e+05 -1.597920e+05  1.714221e+06  5.374075e+04   \n",
       "max    2.581177e+07  8.754101e+06 -8.330000e+02  8.261830e+07  1.378931e+06   \n",
       "\n",
       "                5           6           7             8             9   \\\n",
       "count   146.000000  146.000000  146.000000  1.460000e+02  1.460000e+02   \n",
       "mean    294.951740   50.427975   22.490317  6.632005e+05  3.919473e+05   \n",
       "std     827.062627   56.811965   50.159127  1.182641e+06  1.459649e+06   \n",
       "min      12.000000    0.000000    0.000000  6.922300e+04  2.000000e+00   \n",
       "25%      36.000000   25.750000    6.000000  4.420350e+05  2.686500e+03   \n",
       "50%      41.000000   35.000000    8.000000  4.420350e+05  5.238200e+04   \n",
       "75%      51.250000   40.750000   13.750000  4.420350e+05  1.506065e+05   \n",
       "max    4686.977047  257.242190  262.646587  1.294255e+07  1.164261e+07   \n",
       "\n",
       "                 10            11           12           13            14  \\\n",
       "count  1.460000e+02  1.460000e+02   146.000000   146.000000  1.460000e+02   \n",
       "mean   1.204408e+06  3.218923e+05   978.048433  1629.887022  2.844937e+06   \n",
       "std    3.400572e+06  5.770112e+05   852.559140  1563.807761  1.002702e+07   \n",
       "min   -2.604490e+06  4.770000e+02     2.000000    57.000000  1.480000e+02   \n",
       "25%    3.605280e+05  2.398005e+05   591.500000   904.250000  5.544675e+05   \n",
       "50%    4.517400e+05  2.599960e+05   740.500000  1211.000000  1.101393e+06   \n",
       "75%    8.145280e+05  2.708505e+05   893.500000  1585.750000  1.968287e+06   \n",
       "max    3.451172e+07  7.032252e+06  3779.767792  7787.626292  8.524353e+07   \n",
       "\n",
       "                 15  \n",
       "count  1.460000e+02  \n",
       "mean   3.806414e+06  \n",
       "std    1.106558e+07  \n",
       "min   -4.409300e+04  \n",
       "25%    6.129080e+05  \n",
       "50%    1.102872e+06  \n",
       "75%    2.319991e+06  \n",
       "max    1.146699e+08  "
      ]
     },
     "execution_count": 61,
     "metadata": {},
     "output_type": "execute_result"
    }
   ],
   "source": [
    "df.describe()"
   ]
  },
  {
   "cell_type": "markdown",
   "metadata": {},
   "source": [
    "### 去除偏態"
   ]
  },
  {
   "cell_type": "code",
   "execution_count": 62,
   "metadata": {},
   "outputs": [],
   "source": [
    "from sklearn.preprocessing import StandardScaler, MinMaxScaler, Normalizer\n",
    "import copy\n",
    "df_fixed = copy.deepcopy(df)\n",
    "mms = MinMaxScaler()\n",
    "x_mms = mms.fit_transform(df_fixed)"
   ]
  },
  {
   "cell_type": "code",
   "execution_count": 63,
   "metadata": {},
   "outputs": [],
   "source": [
    "#boxcox轉換\n",
    "from scipy import stats\n",
    "import copy\n",
    "df_fixed[0] = stats.boxcox(df_fixed[0])[0]\n",
    "#df_fixed[1] = stats.boxcox(df_fixed[1])[1]\n",
    "#df_fixed[2] = stats.boxcox(df_fixed[2])[2]\n",
    "#df_fixed[3] = stats.boxcox(df_fixed[3])[3]\n",
    "#df_fixed[4] = stats.boxcox(df_fixed[4])[4]\n",
    "#df_fixed[5] = stats.boxcox(df_fixed[5])[5]\n",
    "#df_fixed[6] = stats.boxcox(df_fixed[6])[6]\n",
    "#df_fixed[7] = stats.boxcox(df_fixed[7])[7]\n",
    "#df_fixed[8] = stats.boxcox(df_fixed[8])[8]\n",
    "#df_fixed[9] = stats.boxcox(df_fixed[9])[9]\n",
    "#df_fixed[10] = stats.boxcox(df_fixed[10])[10]\n",
    "#df_fixed[11] = stats.boxcox(df_fixed[11])[11]\n",
    "#df_fixed[12] = stats.boxcox(df_fixed[12])[12]\n",
    "#df_fixed[13] = stats.boxcox(df_fixed[13])[13]\n",
    "#df_fixed[14] = stats.boxcox(df_fixed[14])[14]\n",
    "#df_fixed[15] = stats.boxcox(df_fixed[15])[15]\n",
    "##只有0可以順利做boxcox轉換\n",
    "##1, 2, 10, 15有負數或0\n",
    "##3, 4, 8, 9, 11, 14-IndexError: tuple index out of range"
   ]
  },
  {
   "cell_type": "code",
   "execution_count": 64,
   "metadata": {},
   "outputs": [],
   "source": [
    "#次數以log1p轉換\n",
    "#5=from_messages, 6=from_poi_to_this_person, 7=from_this_person_to_poi\n",
    "#12=shared_receipt_with_poi, 13=to_messages\n",
    "df_fixed[5] = np.log1p(df_fixed[5])[5]\n",
    "df_fixed[6] = np.log1p(df_fixed[6])[6]\n",
    "df_fixed[7] = np.log1p(df_fixed[7])[7]\n",
    "df_fixed[12] = np.log1p(df_fixed[12])[12]\n",
    "df_fixed[13] = np.log1p(df_fixed[13])[13]"
   ]
  },
  {
   "cell_type": "code",
   "execution_count": 65,
   "metadata": {},
   "outputs": [],
   "source": [
    "#將做過轉換的欄位繪圖查看\n",
    "# import seaborn as sns\n",
    "# import matplotlib.pyplot as plt\n",
    "# train_num = train_Y.shape[0]\n",
    "# sns.distplot(df_fixed[5][:train_num])\n",
    "\n",
    "# plt.show()\n",
    "\n",
    "# df_fixed = MMEncoder.fit_transform(df_fixed)\n",
    "# train_X = df_fixed[:train_num]\n",
    "# estimator = LogisticRegression()\n",
    "# print(cross_val_score(estimator, train_X, train_Y, cv=5).mean())\n",
    "##RuntimeError: Selected KDE bandwidth is 0. Cannot estiamte density."
   ]
  },
  {
   "cell_type": "markdown",
   "metadata": {},
   "source": [
    "### 直接建模"
   ]
  },
  {
   "cell_type": "code",
   "execution_count": 66,
   "metadata": {},
   "outputs": [],
   "source": [
    "train_num = train_Y.shape[0]\n",
    "x_train = df_fixed[:train_num]\n",
    "#test_Name = df_test['name']"
   ]
  },
  {
   "cell_type": "code",
   "execution_count": 67,
   "metadata": {},
   "outputs": [],
   "source": [
    "test_Name = df_test['name']"
   ]
  },
  {
   "cell_type": "code",
   "execution_count": 68,
   "metadata": {},
   "outputs": [],
   "source": [
    "from sklearn.model_selection import train_test_split\n",
    "x_train, x_test, y_train, y_test = train_test_split(x_train, train_Y, test_size=0.2)"
   ]
  },
  {
   "cell_type": "markdown",
   "metadata": {},
   "source": [
    "#### DecisionTree"
   ]
  },
  {
   "cell_type": "code",
   "execution_count": 69,
   "metadata": {},
   "outputs": [
    {
     "name": "stdout",
     "output_type": "stream",
     "text": [
      "Accuracy:  0.782608695652174\n",
      "AUC:  0.6428571428571428\n"
     ]
    }
   ],
   "source": [
    "#建模\n",
    "from sklearn.tree import DecisionTreeClassifier\n",
    "dtc = DecisionTreeClassifier(random_state=1)\n",
    "#訓練模型\n",
    "dtc.fit(x_train, y_train)\n",
    "#預測測試集\n",
    "y_pred1 = dtc.predict(x_test)\n",
    "#計算精準度\n",
    "from sklearn import metrics\n",
    "acc = metrics.accuracy_score(y_test, y_pred1)\n",
    "print(\"Accuracy: \", acc)\n",
    "auc = metrics.roc_auc_score(y_test, y_pred1) # 使用 roc_auc_score 來評估。 **這邊特別注意 y_pred 必須要放機率值進去!**\n",
    "print(\"AUC: \", auc)\n",
    "##Accuracy:  0.8695652173913043\n",
    "##AUC:  0.7833333333333333"
   ]
  },
  {
   "cell_type": "code",
   "execution_count": 70,
   "metadata": {},
   "outputs": [],
   "source": [
    "x_test_pred = df_fixed[train_num:]"
   ]
  },
  {
   "cell_type": "code",
   "execution_count": 71,
   "metadata": {},
   "outputs": [],
   "source": [
    "#預測test資料集\n",
    "y_pred_dtc = dtc.predict_proba(x_test_pred)\n",
    "#將y_pred由array轉為Dataframe\n",
    "y_pred_dtc = pd.DataFrame(y_pred_dtc)"
   ]
  },
  {
   "cell_type": "code",
   "execution_count": 72,
   "metadata": {},
   "outputs": [
    {
     "name": "stdout",
     "output_type": "stream",
     "text": [
      "                    Name  poi\n",
      "0       BELDEN TIMOTHY N  0.0\n",
      "1     BOWEN JR RAYMOND M  0.0\n",
      "2         HANNON KEVIN P  1.0\n",
      "3       DELAINEY DAVID W  0.0\n",
      "4       CAUSEY RICHARD A  0.0\n",
      "5       HICKERSON GARY J  1.0\n",
      "6         FREVERT MARK A  1.0\n",
      "7            CHAN RONNIE  0.0\n",
      "8   DONAHUE JR JEFFREY M  0.0\n",
      "9      REYNOLDS LAWRENCE  0.0\n",
      "10      HORTON STANLEY C  0.0\n",
      "11         LEWIS RICHARD  0.0\n",
      "12    SHERRICK JEFFREY B  0.0\n",
      "13        MEYER JEROME J  0.0\n",
      "14   DERRICK JR. JAMES V  1.0\n",
      "15              PIRO JIM  0.0\n",
      "16   DETMERING TIMOTHY J  0.0\n",
      "17     KISHKILL JOSEPH G  0.0\n",
      "18        BAY FRANKLIN R  0.0\n",
      "19        PRENTICE JAMES  0.0\n",
      "20                 TOTAL  0.0\n",
      "21        FALLON JAMES B  0.0\n",
      "22            METTS MARK  0.0\n",
      "23         WODRASKA JOHN  0.0\n",
      "24   MORDAUNT KRISTINA M  0.0\n",
      "25      CARTER REBECCA C  0.0\n",
      "26      BHATNAGAR SANJAY  0.0\n",
      "27      WALTERS GARETH W  0.0\n",
      "28       BIBI PHILIPPE A  0.0\n",
      "29       SHERRIFF JOHN R  0.0\n",
      "30          GIBBS DANA R  0.0\n",
      "31        LINDHOLM TOD A  0.0\n",
      "32       MCMAHON JEFFREY  0.0\n"
     ]
    }
   ],
   "source": [
    "#彙整y_pred_pd結果\n",
    "import numpy as np\n",
    "y_pred_dtc.columns = ['Not poi','poi']\n",
    "y_pred_dtc['Name'] = df_test['name']\n",
    "y_pred_dtc = y_pred_dtc[['Name', 'poi']]\n",
    "print(y_pred_dtc)"
   ]
  },
  {
   "cell_type": "code",
   "execution_count": 73,
   "metadata": {},
   "outputs": [],
   "source": [
    "#y_pred_dtc.to_csv('Midterm_mmsboxlogDecisionTree.csv', index=False)"
   ]
  },
  {
   "cell_type": "markdown",
   "metadata": {},
   "source": [
    "#### RandomForest"
   ]
  },
  {
   "cell_type": "code",
   "execution_count": 74,
   "metadata": {},
   "outputs": [
    {
     "name": "stdout",
     "output_type": "stream",
     "text": [
      "Accuracy:  0.7391304347826086\n",
      "AUC:  0.5714285714285714\n"
     ]
    }
   ],
   "source": [
    "##RandomForestClassifier()\n",
    "#建模\n",
    "from sklearn.ensemble import RandomForestClassifier\n",
    "rfc = RandomForestClassifier(random_state=3)\n",
    "#訓練模型\n",
    "rfc.fit(x_train, y_train)\n",
    "#預測測試集\n",
    "y_pred2 = rfc.predict(x_test)\n",
    "#計算精準度\n",
    "from sklearn import metrics\n",
    "acc = metrics.accuracy_score(y_test, y_pred2)\n",
    "print(\"Accuracy: \", acc)\n",
    "auc = metrics.roc_auc_score(y_test, y_pred2) # 使用 roc_auc_score 來評估。 **這邊特別注意 y_pred 必須要放機率值進去!**\n",
    "print(\"AUC: \", auc)\n",
    "##Accuracy:  0.9130434782608695\n",
    "##AUC:  0.6666666666666666"
   ]
  },
  {
   "cell_type": "code",
   "execution_count": 75,
   "metadata": {},
   "outputs": [],
   "source": [
    "x_test_pred = df_fixed[train_num:]"
   ]
  },
  {
   "cell_type": "code",
   "execution_count": 76,
   "metadata": {},
   "outputs": [],
   "source": [
    "#預測test資料集\n",
    "y_pred_rfc = rfc.predict_proba(x_test_pred)\n",
    "#將y_pred由array轉為Dataframe\n",
    "y_pred_rfc = pd.DataFrame(y_pred_rfc)"
   ]
  },
  {
   "cell_type": "code",
   "execution_count": 77,
   "metadata": {},
   "outputs": [
    {
     "name": "stdout",
     "output_type": "stream",
     "text": [
      "                    Name   poi\n",
      "0       BELDEN TIMOTHY N  0.20\n",
      "1     BOWEN JR RAYMOND M  0.18\n",
      "2         HANNON KEVIN P  0.26\n",
      "3       DELAINEY DAVID W  0.01\n",
      "4       CAUSEY RICHARD A  0.08\n",
      "5       HICKERSON GARY J  0.18\n",
      "6         FREVERT MARK A  0.40\n",
      "7            CHAN RONNIE  0.06\n",
      "8   DONAHUE JR JEFFREY M  0.07\n",
      "9      REYNOLDS LAWRENCE  0.16\n",
      "10      HORTON STANLEY C  0.00\n",
      "11         LEWIS RICHARD  0.00\n",
      "12    SHERRICK JEFFREY B  0.00\n",
      "13        MEYER JEROME J  0.03\n",
      "14   DERRICK JR. JAMES V  0.23\n",
      "15              PIRO JIM  0.07\n",
      "16   DETMERING TIMOTHY J  0.06\n",
      "17     KISHKILL JOSEPH G  0.04\n",
      "18        BAY FRANKLIN R  0.09\n",
      "19        PRENTICE JAMES  0.00\n",
      "20                 TOTAL  0.55\n",
      "21        FALLON JAMES B  0.07\n",
      "22            METTS MARK  0.00\n",
      "23         WODRASKA JOHN  0.03\n",
      "24   MORDAUNT KRISTINA M  0.01\n",
      "25      CARTER REBECCA C  0.02\n",
      "26      BHATNAGAR SANJAY  0.09\n",
      "27      WALTERS GARETH W  0.03\n",
      "28       BIBI PHILIPPE A  0.04\n",
      "29       SHERRIFF JOHN R  0.08\n",
      "30          GIBBS DANA R  0.00\n",
      "31        LINDHOLM TOD A  0.12\n",
      "32       MCMAHON JEFFREY  0.02\n"
     ]
    }
   ],
   "source": [
    "#彙整y_pred_pd結果\n",
    "import numpy as np\n",
    "y_pred_rfc.columns = ['Not poi','poi']\n",
    "y_pred_rfc['Name'] = df_test['name']\n",
    "y_pred_rfc = y_pred_rfc[['Name', 'poi']]\n",
    "print(y_pred_rfc)"
   ]
  },
  {
   "cell_type": "code",
   "execution_count": 78,
   "metadata": {},
   "outputs": [],
   "source": [
    "#y_pred_rfc.to_csv('Midterm_mmsboxlogRandomForest.csv', index=False)"
   ]
  },
  {
   "cell_type": "markdown",
   "metadata": {},
   "source": [
    "#### GradientBoosting"
   ]
  },
  {
   "cell_type": "code",
   "execution_count": 79,
   "metadata": {},
   "outputs": [
    {
     "name": "stdout",
     "output_type": "stream",
     "text": [
      "Accuracy:  0.782608695652174\n",
      "AUC:  0.6428571428571428\n"
     ]
    }
   ],
   "source": [
    "##GradientBoostingClassifier()\n",
    "#建模\n",
    "from sklearn.ensemble import GradientBoostingClassifier\n",
    "gbc = GradientBoostingClassifier(random_state=5)\n",
    "#訓練模型\n",
    "gbc.fit(x_train, y_train)\n",
    "#預測測試集\n",
    "y_pred3 = gbc.predict(x_test)\n",
    "#計算精準度\n",
    "from sklearn import metrics\n",
    "acc = metrics.accuracy_score(y_test, y_pred3)\n",
    "print(\"Accuracy: \", acc)\n",
    "auc = metrics.roc_auc_score(y_test, y_pred3) # 使用 roc_auc_score 來評估。 **這邊特別注意 y_pred 必須要放機率值進去!**\n",
    "print(\"AUC: \", auc)\n",
    "##Accuracy:  0.8695652173913043\n",
    "##AUC:  0.6416666666666666"
   ]
  },
  {
   "cell_type": "code",
   "execution_count": 80,
   "metadata": {},
   "outputs": [],
   "source": [
    "x_test_pred = df_fixed[train_num:]"
   ]
  },
  {
   "cell_type": "code",
   "execution_count": 81,
   "metadata": {},
   "outputs": [],
   "source": [
    "#預測test資料集\n",
    "y_pred_gbc = gbc.predict_proba(x_test_pred)\n",
    "#將y_pred由array轉為Dataframe\n",
    "y_pred_gbc = pd.DataFrame(y_pred_gbc)"
   ]
  },
  {
   "cell_type": "code",
   "execution_count": 82,
   "metadata": {},
   "outputs": [
    {
     "name": "stdout",
     "output_type": "stream",
     "text": [
      "                    Name       poi\n",
      "0       BELDEN TIMOTHY N  0.000569\n",
      "1     BOWEN JR RAYMOND M  0.000558\n",
      "2         HANNON KEVIN P  0.992778\n",
      "3       DELAINEY DAVID W  0.000173\n",
      "4       CAUSEY RICHARD A  0.000083\n",
      "5       HICKERSON GARY J  0.910444\n",
      "6         FREVERT MARK A  0.215447\n",
      "7            CHAN RONNIE  0.003706\n",
      "8   DONAHUE JR JEFFREY M  0.000039\n",
      "9      REYNOLDS LAWRENCE  0.001006\n",
      "10      HORTON STANLEY C  0.000053\n",
      "11         LEWIS RICHARD  0.000039\n",
      "12    SHERRICK JEFFREY B  0.000039\n",
      "13        MEYER JEROME J  0.000324\n",
      "14   DERRICK JR. JAMES V  0.944765\n",
      "15              PIRO JIM  0.000153\n",
      "16   DETMERING TIMOTHY J  0.000148\n",
      "17     KISHKILL JOSEPH G  0.000315\n",
      "18        BAY FRANKLIN R  0.000320\n",
      "19        PRENTICE JAMES  0.000039\n",
      "20                 TOTAL  0.465848\n",
      "21        FALLON JAMES B  0.000173\n",
      "22            METTS MARK  0.000039\n",
      "23         WODRASKA JOHN  0.000035\n",
      "24   MORDAUNT KRISTINA M  0.000482\n",
      "25      CARTER REBECCA C  0.000045\n",
      "26      BHATNAGAR SANJAY  0.000127\n",
      "27      WALTERS GARETH W  0.001525\n",
      "28       BIBI PHILIPPE A  0.000966\n",
      "29       SHERRIFF JOHN R  0.000123\n",
      "30          GIBBS DANA R  0.000053\n",
      "31        LINDHOLM TOD A  0.000606\n",
      "32       MCMAHON JEFFREY  0.000173\n"
     ]
    }
   ],
   "source": [
    "#彙整y_pred_pd結果\n",
    "import numpy as np\n",
    "y_pred_gbc.columns = ['Not poi','poi']\n",
    "y_pred_gbc['Name'] = df_test['name']\n",
    "y_pred_gbc = y_pred_gbc[['Name', 'poi']]\n",
    "print(y_pred_gbc)"
   ]
  },
  {
   "cell_type": "code",
   "execution_count": 83,
   "metadata": {},
   "outputs": [],
   "source": [
    "#y_pred_gbc.to_csv('Midterm_mmsboxlogGradientBoosting.csv', index=False)"
   ]
  },
  {
   "cell_type": "markdown",
   "metadata": {},
   "source": [
    "### Grid Search"
   ]
  }
 ],
 "metadata": {
  "kernelspec": {
   "display_name": "Python 3",
   "language": "python",
   "name": "python3"
  },
  "language_info": {
   "codemirror_mode": {
    "name": "ipython",
    "version": 3
   },
   "file_extension": ".py",
   "mimetype": "text/x-python",
   "name": "python",
   "nbconvert_exporter": "python",
   "pygments_lexer": "ipython3",
   "version": "3.7.7"
  }
 },
 "nbformat": 4,
 "nbformat_minor": 4
}
