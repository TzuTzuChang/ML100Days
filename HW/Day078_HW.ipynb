{
 "cells": [
  {
   "cell_type": "markdown",
   "metadata": {},
   "source": [
    "## Work\n",
    "1. 請嘗試將 preproc_x 替換成以每筆資料的 min/max 進行標準化至 -1 ~ 1 間，再進行訓練\n",
    "2. 請嘗試將 mlp 疊更深 (e.g 5~10 層)，進行訓練後觀察 learning curve 的走勢\n",
    "3. (optional) 請改用 GPU 進行訓練 (如果你有 GPU 的話)，比較使用 CPU 與 GPU 的訓練速度"
   ]
  },
  {
   "cell_type": "code",
   "execution_count": 1,
   "metadata": {},
   "outputs": [
    {
     "data": {
      "text/plain": [
       "'\\nYour code here (optional)\\n確認硬體資源\\n'"
      ]
     },
     "execution_count": 1,
     "metadata": {},
     "output_type": "execute_result"
    }
   ],
   "source": [
    "## \n",
    "\"\"\"\n",
    "Your code here (optional)\n",
    "確認硬體資源\n",
    "\"\"\""
   ]
  },
  {
   "cell_type": "code",
   "execution_count": 2,
   "metadata": {},
   "outputs": [],
   "source": [
    "import os\n",
    "import keras\n",
    "\n",
    "# 請嘗試設定 GPU：os.environ"
   ]
  },
  {
   "cell_type": "code",
   "execution_count": 3,
   "metadata": {},
   "outputs": [],
   "source": [
    "train, test = keras.datasets.cifar10.load_data()"
   ]
  },
  {
   "cell_type": "code",
   "execution_count": 4,
   "metadata": {},
   "outputs": [],
   "source": [
    "## 資料前處理\n",
    "\"\"\"\n",
    "Your code here\n",
    "\"\"\"\n",
    "def preproc_x(x, flatten=True):\n",
    "    x = ((x-x.min()) / ((x.max()-x.min())-0.5))*2\n",
    "    #x = ((x-min(x)) / ((max(x)-min(x))-0.5))*2\n",
    "    if flatten:\n",
    "        x = x.reshape((len(x), -1))\n",
    "    return x\n",
    "\n",
    "def preproc_y(y, num_classes=10):\n",
    "    if y.shape[-1] == 1:\n",
    "        y = keras.utils.to_categorical(y, num_classes)\n",
    "    return y\n",
    "#x = ((x-min(x)) / ((max(x)-min(x))-0.5))*2\n",
    "#使用此種寫法標準化, 下方在資料前處理時會出現下列錯誤\n",
    "##ValueError: The truth value of an array with more than one element is ambiguous. Use a.any() or a.all()"
   ]
  },
  {
   "cell_type": "code",
   "execution_count": 5,
   "metadata": {},
   "outputs": [],
   "source": [
    "x_train, y_train = train\n",
    "x_test, y_test = test\n",
    "\n",
    "# Preproc the inputs\n",
    "x_train = preproc_x(x_train)\n",
    "x_test = preproc_x(x_test)\n",
    "\n",
    "# Preprc the outputs\n",
    "y_train = preproc_y(y_train)\n",
    "y_test = preproc_y(y_test)"
   ]
  },
  {
   "cell_type": "code",
   "execution_count": 6,
   "metadata": {},
   "outputs": [
    {
     "name": "stdout",
     "output_type": "stream",
     "text": [
      "Model: \"functional_1\"\n",
      "_________________________________________________________________\n",
      "Layer (type)                 Output Shape              Param #   \n",
      "=================================================================\n",
      "input_1 (InputLayer)         [(None, 3072)]            0         \n",
      "_________________________________________________________________\n",
      "hidden_layer1 (Dense)        (None, 512)               1573376   \n",
      "_________________________________________________________________\n",
      "hidden_layer2 (Dense)        (None, 256)               131328    \n",
      "_________________________________________________________________\n",
      "hidden_layer3 (Dense)        (None, 128)               32896     \n",
      "_________________________________________________________________\n",
      "hidden_layer4 (Dense)        (None, 64)                8256      \n",
      "_________________________________________________________________\n",
      "hidden_layer5 (Dense)        (None, 32)                2080      \n",
      "_________________________________________________________________\n",
      "output (Dense)               (None, 10)                330       \n",
      "=================================================================\n",
      "Total params: 1,748,266\n",
      "Trainable params: 1,748,266\n",
      "Non-trainable params: 0\n",
      "_________________________________________________________________\n"
     ]
    }
   ],
   "source": [
    "\"\"\"Code Here\n",
    "建立你的神經網路\n",
    "\"\"\"\n",
    "def build_mlp(input_shape, output_units=10, num_neurons=[512, 256, 128, 64, 32]):\n",
    "    input_layer = keras.layers.Input(input_shape)\n",
    "    \n",
    "    for i, n_units in enumerate(num_neurons):\n",
    "        if i == 0:\n",
    "            x = keras.layers.Dense(units=n_units, activation=\"relu\", name=\"hidden_layer\"+str(i+1))(input_layer)\n",
    "        else:\n",
    "            x = keras.layers.Dense(units=n_units, activation=\"relu\", name=\"hidden_layer\"+str(i+1))(x)\n",
    "    \n",
    "    out = keras.layers.Dense(units=output_units, activation=\"softmax\", name=\"output\")(x)\n",
    "    \n",
    "    model = keras.models.Model(inputs=[input_layer], outputs=[out])\n",
    "    return model\n",
    "\n",
    "model = build_mlp(input_shape=x_train.shape[1:])\n",
    "\n",
    "model.summary()"
   ]
  },
  {
   "cell_type": "code",
   "execution_count": 7,
   "metadata": {},
   "outputs": [],
   "source": [
    "## 超參數設定\n",
    "LEARNING_RATE = 0.001\n",
    "EPOCHS = 100\n",
    "BATCH_SIZE = 256"
   ]
  },
  {
   "cell_type": "code",
   "execution_count": 8,
   "metadata": {},
   "outputs": [],
   "source": [
    "optimizer = keras.optimizers.Adam(lr=LEARNING_RATE)\n",
    "model.compile(loss=\"categorical_crossentropy\", metrics=[\"accuracy\"], optimizer=optimizer)"
   ]
  },
  {
   "cell_type": "code",
   "execution_count": 9,
   "metadata": {},
   "outputs": [
    {
     "name": "stdout",
     "output_type": "stream",
     "text": [
      "Epoch 1/100\n",
      "196/196 [==============================] - 3s 14ms/step - loss: 2.0814 - accuracy: 0.2326 - val_loss: 1.8943 - val_accuracy: 0.3161\n",
      "Epoch 2/100\n",
      "196/196 [==============================] - 2s 12ms/step - loss: 1.7924 - accuracy: 0.3538 - val_loss: 1.7456 - val_accuracy: 0.3704\n",
      "Epoch 3/100\n",
      "196/196 [==============================] - 3s 14ms/step - loss: 1.6898 - accuracy: 0.3936 - val_loss: 1.6559 - val_accuracy: 0.4038\n",
      "Epoch 4/100\n",
      "196/196 [==============================] - 3s 13ms/step - loss: 1.6158 - accuracy: 0.4213 - val_loss: 1.5946 - val_accuracy: 0.4372\n",
      "Epoch 5/100\n",
      "196/196 [==============================] - 3s 13ms/step - loss: 1.5708 - accuracy: 0.4356 - val_loss: 1.5748 - val_accuracy: 0.4400\n",
      "Epoch 6/100\n",
      "196/196 [==============================] - 2s 13ms/step - loss: 1.5339 - accuracy: 0.4487 - val_loss: 1.6169 - val_accuracy: 0.4267\n",
      "Epoch 7/100\n",
      "196/196 [==============================] - 3s 13ms/step - loss: 1.5042 - accuracy: 0.4601 - val_loss: 1.4860 - val_accuracy: 0.4712\n",
      "Epoch 8/100\n",
      "196/196 [==============================] - 3s 13ms/step - loss: 1.4634 - accuracy: 0.4756 - val_loss: 1.5417 - val_accuracy: 0.4470\n",
      "Epoch 9/100\n",
      "196/196 [==============================] - 2s 13ms/step - loss: 1.4538 - accuracy: 0.4782 - val_loss: 1.4865 - val_accuracy: 0.4646\n",
      "Epoch 10/100\n",
      "196/196 [==============================] - 3s 14ms/step - loss: 1.4210 - accuracy: 0.4929 - val_loss: 1.5038 - val_accuracy: 0.4651\n",
      "Epoch 11/100\n",
      "196/196 [==============================] - 3s 13ms/step - loss: 1.3982 - accuracy: 0.5004 - val_loss: 1.4767 - val_accuracy: 0.4779\n",
      "Epoch 12/100\n",
      "196/196 [==============================] - 3s 13ms/step - loss: 1.3697 - accuracy: 0.5088 - val_loss: 1.4355 - val_accuracy: 0.4830\n",
      "Epoch 13/100\n",
      "196/196 [==============================] - 2s 13ms/step - loss: 1.3429 - accuracy: 0.5188 - val_loss: 1.4138 - val_accuracy: 0.4967\n",
      "Epoch 14/100\n",
      "196/196 [==============================] - 3s 13ms/step - loss: 1.3219 - accuracy: 0.5274 - val_loss: 1.4241 - val_accuracy: 0.4920\n",
      "Epoch 15/100\n",
      "196/196 [==============================] - 3s 13ms/step - loss: 1.3068 - accuracy: 0.5339 - val_loss: 1.3944 - val_accuracy: 0.5012\n",
      "Epoch 16/100\n",
      "196/196 [==============================] - 3s 13ms/step - loss: 1.2819 - accuracy: 0.5422 - val_loss: 1.4020 - val_accuracy: 0.5115\n",
      "Epoch 17/100\n",
      "196/196 [==============================] - 3s 13ms/step - loss: 1.2620 - accuracy: 0.5504 - val_loss: 1.4119 - val_accuracy: 0.4990\n",
      "Epoch 18/100\n",
      "196/196 [==============================] - 3s 14ms/step - loss: 1.2472 - accuracy: 0.5572 - val_loss: 1.3872 - val_accuracy: 0.5087\n",
      "Epoch 19/100\n",
      "196/196 [==============================] - 3s 14ms/step - loss: 1.2177 - accuracy: 0.5653 - val_loss: 1.3938 - val_accuracy: 0.5121\n",
      "Epoch 20/100\n",
      "196/196 [==============================] - 4s 19ms/step - loss: 1.2054 - accuracy: 0.5705 - val_loss: 1.3796 - val_accuracy: 0.5224\n",
      "Epoch 21/100\n",
      "196/196 [==============================] - 8s 43ms/step - loss: 1.1856 - accuracy: 0.5769 - val_loss: 1.4074 - val_accuracy: 0.5099\n",
      "Epoch 22/100\n",
      "196/196 [==============================] - 9s 45ms/step - loss: 1.1552 - accuracy: 0.5842 - val_loss: 1.3867 - val_accuracy: 0.5230\n",
      "Epoch 23/100\n",
      "196/196 [==============================] - 4s 21ms/step - loss: 1.1461 - accuracy: 0.5899 - val_loss: 1.3681 - val_accuracy: 0.5262\n",
      "Epoch 24/100\n",
      "196/196 [==============================] - 3s 16ms/step - loss: 1.1160 - accuracy: 0.6006 - val_loss: 1.3717 - val_accuracy: 0.5185\n",
      "Epoch 25/100\n",
      "196/196 [==============================] - 3s 15ms/step - loss: 1.1091 - accuracy: 0.6058 - val_loss: 1.3757 - val_accuracy: 0.5230\n",
      "Epoch 26/100\n",
      "196/196 [==============================] - 3s 14ms/step - loss: 1.0902 - accuracy: 0.6083 - val_loss: 1.4133 - val_accuracy: 0.5170\n",
      "Epoch 27/100\n",
      "196/196 [==============================] - 3s 15ms/step - loss: 1.0662 - accuracy: 0.6166 - val_loss: 1.3678 - val_accuracy: 0.5245\n",
      "Epoch 28/100\n",
      "196/196 [==============================] - 3s 15ms/step - loss: 1.0381 - accuracy: 0.6281 - val_loss: 1.4003 - val_accuracy: 0.5285\n",
      "Epoch 29/100\n",
      "196/196 [==============================] - 3s 17ms/step - loss: 1.0294 - accuracy: 0.6319 - val_loss: 1.4453 - val_accuracy: 0.5127\n",
      "Epoch 30/100\n",
      "196/196 [==============================] - 3s 17ms/step - loss: 1.0136 - accuracy: 0.6374 - val_loss: 1.4106 - val_accuracy: 0.5259\n",
      "Epoch 31/100\n",
      "196/196 [==============================] - 3s 18ms/step - loss: 0.9884 - accuracy: 0.6446 - val_loss: 1.4633 - val_accuracy: 0.5134\n",
      "Epoch 32/100\n",
      "196/196 [==============================] - 3s 17ms/step - loss: 0.9795 - accuracy: 0.6491 - val_loss: 1.4529 - val_accuracy: 0.5157\n",
      "Epoch 33/100\n",
      "196/196 [==============================] - 3s 16ms/step - loss: 0.9592 - accuracy: 0.6560 - val_loss: 1.4581 - val_accuracy: 0.5166\n",
      "Epoch 34/100\n",
      "196/196 [==============================] - 3s 15ms/step - loss: 0.9516 - accuracy: 0.6588 - val_loss: 1.4577 - val_accuracy: 0.5208\n",
      "Epoch 35/100\n",
      "196/196 [==============================] - 3s 14ms/step - loss: 0.9306 - accuracy: 0.6674 - val_loss: 1.5069 - val_accuracy: 0.5155\n",
      "Epoch 36/100\n",
      "196/196 [==============================] - 3s 14ms/step - loss: 0.9105 - accuracy: 0.6736 - val_loss: 1.5169 - val_accuracy: 0.5129\n",
      "Epoch 37/100\n",
      "196/196 [==============================] - 3s 14ms/step - loss: 0.9122 - accuracy: 0.6736 - val_loss: 1.4790 - val_accuracy: 0.5231\n",
      "Epoch 38/100\n",
      "196/196 [==============================] - 3s 13ms/step - loss: 0.8807 - accuracy: 0.6841 - val_loss: 1.5119 - val_accuracy: 0.5216\n",
      "Epoch 39/100\n",
      "196/196 [==============================] - 3s 13ms/step - loss: 0.8723 - accuracy: 0.6883 - val_loss: 1.5865 - val_accuracy: 0.4973\n",
      "Epoch 40/100\n",
      "196/196 [==============================] - 3s 14ms/step - loss: 0.8615 - accuracy: 0.6899 - val_loss: 1.5329 - val_accuracy: 0.5211\n",
      "Epoch 41/100\n",
      "196/196 [==============================] - 3s 14ms/step - loss: 0.8405 - accuracy: 0.6990 - val_loss: 1.5525 - val_accuracy: 0.5195\n",
      "Epoch 42/100\n",
      "196/196 [==============================] - 3s 14ms/step - loss: 0.8203 - accuracy: 0.7047 - val_loss: 1.5595 - val_accuracy: 0.5172\n",
      "Epoch 43/100\n",
      "196/196 [==============================] - 3s 14ms/step - loss: 0.8177 - accuracy: 0.7077 - val_loss: 1.5997 - val_accuracy: 0.5198\n",
      "Epoch 44/100\n",
      "196/196 [==============================] - 3s 14ms/step - loss: 0.7932 - accuracy: 0.7144 - val_loss: 1.5809 - val_accuracy: 0.5133\n",
      "Epoch 45/100\n",
      "196/196 [==============================] - 3s 14ms/step - loss: 0.7911 - accuracy: 0.7149 - val_loss: 1.6321 - val_accuracy: 0.5153\n",
      "Epoch 46/100\n",
      "196/196 [==============================] - 3s 13ms/step - loss: 0.7618 - accuracy: 0.7261 - val_loss: 1.6048 - val_accuracy: 0.5172\n",
      "Epoch 47/100\n",
      "196/196 [==============================] - 3s 13ms/step - loss: 0.7522 - accuracy: 0.7310 - val_loss: 1.6580 - val_accuracy: 0.5172\n",
      "Epoch 48/100\n",
      "196/196 [==============================] - 3s 13ms/step - loss: 0.7397 - accuracy: 0.7341 - val_loss: 1.6478 - val_accuracy: 0.5164\n",
      "Epoch 49/100\n",
      "196/196 [==============================] - 3s 14ms/step - loss: 0.7297 - accuracy: 0.7377 - val_loss: 1.7176 - val_accuracy: 0.5120\n",
      "Epoch 50/100\n",
      "196/196 [==============================] - 3s 14ms/step - loss: 0.7300 - accuracy: 0.7398 - val_loss: 1.7606 - val_accuracy: 0.5049\n",
      "Epoch 51/100\n",
      "196/196 [==============================] - 3s 14ms/step - loss: 0.7049 - accuracy: 0.7476 - val_loss: 1.7318 - val_accuracy: 0.5159\n",
      "Epoch 52/100\n",
      "196/196 [==============================] - 3s 13ms/step - loss: 0.6919 - accuracy: 0.7505 - val_loss: 1.8027 - val_accuracy: 0.5023\n",
      "Epoch 53/100\n",
      "196/196 [==============================] - 3s 13ms/step - loss: 0.6818 - accuracy: 0.7562 - val_loss: 1.8857 - val_accuracy: 0.5018\n",
      "Epoch 54/100\n",
      "196/196 [==============================] - 3s 13ms/step - loss: 0.6674 - accuracy: 0.7605 - val_loss: 1.8536 - val_accuracy: 0.5049\n",
      "Epoch 55/100\n",
      "196/196 [==============================] - 3s 13ms/step - loss: 0.6456 - accuracy: 0.7702 - val_loss: 1.8230 - val_accuracy: 0.5131\n",
      "Epoch 56/100\n",
      "196/196 [==============================] - 3s 13ms/step - loss: 0.6513 - accuracy: 0.7651 - val_loss: 1.8607 - val_accuracy: 0.5126\n",
      "Epoch 57/100\n"
     ]
    },
    {
     "name": "stdout",
     "output_type": "stream",
     "text": [
      "196/196 [==============================] - 3s 13ms/step - loss: 0.6392 - accuracy: 0.7701 - val_loss: 1.8848 - val_accuracy: 0.5116\n",
      "Epoch 58/100\n",
      "196/196 [==============================] - 3s 13ms/step - loss: 0.6344 - accuracy: 0.7699 - val_loss: 1.9277 - val_accuracy: 0.5120\n",
      "Epoch 59/100\n",
      "196/196 [==============================] - 2s 13ms/step - loss: 0.6125 - accuracy: 0.7800 - val_loss: 1.9695 - val_accuracy: 0.5029\n",
      "Epoch 60/100\n",
      "196/196 [==============================] - 3s 13ms/step - loss: 0.6269 - accuracy: 0.7737 - val_loss: 1.9978 - val_accuracy: 0.5083\n",
      "Epoch 61/100\n",
      "196/196 [==============================] - 2s 13ms/step - loss: 0.6015 - accuracy: 0.7849 - val_loss: 1.9559 - val_accuracy: 0.5162\n",
      "Epoch 62/100\n",
      "196/196 [==============================] - 3s 13ms/step - loss: 0.5945 - accuracy: 0.7863 - val_loss: 2.0119 - val_accuracy: 0.4987\n",
      "Epoch 63/100\n",
      "196/196 [==============================] - 3s 13ms/step - loss: 0.5780 - accuracy: 0.7922 - val_loss: 2.0893 - val_accuracy: 0.4968\n",
      "Epoch 64/100\n",
      "196/196 [==============================] - 3s 13ms/step - loss: 0.5777 - accuracy: 0.7903 - val_loss: 2.0440 - val_accuracy: 0.5155\n",
      "Epoch 65/100\n",
      "196/196 [==============================] - 3s 13ms/step - loss: 0.5560 - accuracy: 0.7995 - val_loss: 2.0434 - val_accuracy: 0.5078\n",
      "Epoch 66/100\n",
      "196/196 [==============================] - 3s 13ms/step - loss: 0.5434 - accuracy: 0.8053 - val_loss: 2.0937 - val_accuracy: 0.5127\n",
      "Epoch 67/100\n",
      "196/196 [==============================] - 3s 14ms/step - loss: 0.5461 - accuracy: 0.8059 - val_loss: 2.1310 - val_accuracy: 0.5121\n",
      "Epoch 68/100\n",
      "196/196 [==============================] - 3s 14ms/step - loss: 0.5442 - accuracy: 0.8045 - val_loss: 2.1848 - val_accuracy: 0.5130\n",
      "Epoch 69/100\n",
      "196/196 [==============================] - 3s 13ms/step - loss: 0.5308 - accuracy: 0.8090 - val_loss: 2.1766 - val_accuracy: 0.5018\n",
      "Epoch 70/100\n",
      "196/196 [==============================] - 3s 13ms/step - loss: 0.5176 - accuracy: 0.8124 - val_loss: 2.2161 - val_accuracy: 0.5055\n",
      "Epoch 71/100\n",
      "196/196 [==============================] - 2s 13ms/step - loss: 0.5329 - accuracy: 0.8078 - val_loss: 2.1484 - val_accuracy: 0.5057\n",
      "Epoch 72/100\n",
      "196/196 [==============================] - 2s 12ms/step - loss: 0.5240 - accuracy: 0.8102 - val_loss: 2.2476 - val_accuracy: 0.5026\n",
      "Epoch 73/100\n",
      "196/196 [==============================] - 3s 13ms/step - loss: 0.4923 - accuracy: 0.8230 - val_loss: 2.2881 - val_accuracy: 0.5090\n",
      "Epoch 74/100\n",
      "196/196 [==============================] - 3s 13ms/step - loss: 0.4979 - accuracy: 0.8205 - val_loss: 2.3252 - val_accuracy: 0.5038\n",
      "Epoch 75/100\n",
      "196/196 [==============================] - 3s 13ms/step - loss: 0.5011 - accuracy: 0.8197 - val_loss: 2.3226 - val_accuracy: 0.5050\n",
      "Epoch 76/100\n",
      "196/196 [==============================] - 3s 13ms/step - loss: 0.4691 - accuracy: 0.8312 - val_loss: 2.4192 - val_accuracy: 0.5011\n",
      "Epoch 77/100\n",
      "196/196 [==============================] - 3s 13ms/step - loss: 0.4899 - accuracy: 0.8235 - val_loss: 2.3597 - val_accuracy: 0.5049\n",
      "Epoch 78/100\n",
      "196/196 [==============================] - 2s 12ms/step - loss: 0.4750 - accuracy: 0.8296 - val_loss: 2.4148 - val_accuracy: 0.5094\n",
      "Epoch 79/100\n",
      "196/196 [==============================] - 2s 13ms/step - loss: 0.4764 - accuracy: 0.8296 - val_loss: 2.4878 - val_accuracy: 0.5051\n",
      "Epoch 80/100\n",
      "196/196 [==============================] - 2s 12ms/step - loss: 0.4498 - accuracy: 0.8363 - val_loss: 2.4879 - val_accuracy: 0.5011\n",
      "Epoch 81/100\n",
      "196/196 [==============================] - 3s 13ms/step - loss: 0.4462 - accuracy: 0.8397 - val_loss: 2.4768 - val_accuracy: 0.5029\n",
      "Epoch 82/100\n",
      "196/196 [==============================] - 3s 13ms/step - loss: 0.4594 - accuracy: 0.8335 - val_loss: 2.4659 - val_accuracy: 0.5053\n",
      "Epoch 83/100\n",
      "196/196 [==============================] - 3s 13ms/step - loss: 0.4401 - accuracy: 0.8415 - val_loss: 2.5869 - val_accuracy: 0.4982\n",
      "Epoch 84/100\n",
      "196/196 [==============================] - 2s 13ms/step - loss: 0.4243 - accuracy: 0.8463 - val_loss: 2.6208 - val_accuracy: 0.5031\n",
      "Epoch 85/100\n",
      "196/196 [==============================] - 2s 13ms/step - loss: 0.4451 - accuracy: 0.8409 - val_loss: 2.6437 - val_accuracy: 0.4999\n",
      "Epoch 86/100\n",
      "196/196 [==============================] - 2s 13ms/step - loss: 0.4532 - accuracy: 0.8374 - val_loss: 2.6624 - val_accuracy: 0.5030\n",
      "Epoch 87/100\n",
      "196/196 [==============================] - 2s 12ms/step - loss: 0.4173 - accuracy: 0.8490 - val_loss: 2.6560 - val_accuracy: 0.4996\n",
      "Epoch 88/100\n",
      "196/196 [==============================] - 2s 12ms/step - loss: 0.4083 - accuracy: 0.8529 - val_loss: 2.7257 - val_accuracy: 0.5005\n",
      "Epoch 89/100\n",
      "196/196 [==============================] - 2s 13ms/step - loss: 0.4123 - accuracy: 0.8520 - val_loss: 2.7069 - val_accuracy: 0.4991\n",
      "Epoch 90/100\n",
      "196/196 [==============================] - 2s 13ms/step - loss: 0.4351 - accuracy: 0.8435 - val_loss: 2.7556 - val_accuracy: 0.4997\n",
      "Epoch 91/100\n",
      "196/196 [==============================] - 3s 13ms/step - loss: 0.3893 - accuracy: 0.8597 - val_loss: 2.7892 - val_accuracy: 0.4984\n",
      "Epoch 92/100\n",
      "196/196 [==============================] - 3s 13ms/step - loss: 0.3874 - accuracy: 0.8611 - val_loss: 2.7750 - val_accuracy: 0.5019\n",
      "Epoch 93/100\n",
      "196/196 [==============================] - 3s 13ms/step - loss: 0.3971 - accuracy: 0.8582 - val_loss: 2.7715 - val_accuracy: 0.5003\n",
      "Epoch 94/100\n",
      "196/196 [==============================] - 3s 13ms/step - loss: 0.3844 - accuracy: 0.8629 - val_loss: 2.8393 - val_accuracy: 0.4976\n",
      "Epoch 95/100\n",
      "196/196 [==============================] - 2s 13ms/step - loss: 0.3923 - accuracy: 0.8583 - val_loss: 2.8680 - val_accuracy: 0.5075\n",
      "Epoch 96/100\n",
      "196/196 [==============================] - 2s 13ms/step - loss: 0.3757 - accuracy: 0.8652 - val_loss: 2.8883 - val_accuracy: 0.4953\n",
      "Epoch 97/100\n",
      "196/196 [==============================] - 2s 12ms/step - loss: 0.3929 - accuracy: 0.8577 - val_loss: 2.8899 - val_accuracy: 0.4966\n",
      "Epoch 98/100\n",
      "196/196 [==============================] - 2s 12ms/step - loss: 0.3700 - accuracy: 0.8671 - val_loss: 2.9767 - val_accuracy: 0.5029\n",
      "Epoch 99/100\n",
      "196/196 [==============================] - 3s 13ms/step - loss: 0.3571 - accuracy: 0.8718 - val_loss: 2.9494 - val_accuracy: 0.4958\n",
      "Epoch 100/100\n",
      "196/196 [==============================] - 3s 13ms/step - loss: 0.3598 - accuracy: 0.8710 - val_loss: 2.9888 - val_accuracy: 0.5043\n"
     ]
    },
    {
     "data": {
      "text/plain": [
       "<tensorflow.python.keras.callbacks.History at 0x6445348d0>"
      ]
     },
     "execution_count": 9,
     "metadata": {},
     "output_type": "execute_result"
    }
   ],
   "source": [
    "model.fit(x_train, y_train, \n",
    "          epochs=EPOCHS, \n",
    "          batch_size=BATCH_SIZE, \n",
    "          validation_data=(x_test, y_test), \n",
    "          shuffle=True)"
   ]
  },
  {
   "cell_type": "code",
   "execution_count": 10,
   "metadata": {},
   "outputs": [
    {
     "data": {
      "image/png": "[encoded data removed]",
      "text/plain": [
       "<Figure size 432x288 with 1 Axes>"
      ]
     },
     "metadata": {
      "needs_background": "light"
     },
     "output_type": "display_data"
    },
    {
     "data": {
      "image/png": "[encoded data removed]",
      "text/plain": [
       "<Figure size 432x288 with 1 Axes>"
      ]
     },
     "metadata": {
      "needs_background": "light"
     },
     "output_type": "display_data"
    }
   ],
   "source": [
    "import matplotlib.pyplot as plt\n",
    "\n",
    "train_loss = model.history.history[\"loss\"]\n",
    "valid_loss = model.history.history[\"val_loss\"]\n",
    "\n",
    "train_acc = model.history.history[\"accuracy\"]\n",
    "valid_acc = model.history.history[\"val_accuracy\"]\n",
    "\n",
    "plt.plot(range(len(train_loss)), train_loss, label=\"train loss\")\n",
    "plt.plot(range(len(valid_loss)), valid_loss, label=\"valid loss\")\n",
    "plt.legend()\n",
    "plt.title(\"Loss\")\n",
    "plt.show()\n",
    "\n",
    "plt.plot(range(len(train_acc)), train_acc, label=\"train accuracy\")\n",
    "plt.plot(range(len(valid_acc)), valid_acc, label=\"valid accuracy\")\n",
    "plt.legend()\n",
    "plt.title(\"Accuracy\")\n",
    "plt.show()"
   ]
  }
 ],
 "metadata": {
  "kernelspec": {
   "display_name": "Python 3",
   "language": "python",
   "name": "python3"
  },
  "language_info": {
   "codemirror_mode": {
    "name": "ipython",
    "version": 3
   },
   "file_extension": ".py",
   "mimetype": "text/x-python",
   "name": "python",
   "nbconvert_exporter": "python",
   "pygments_lexer": "ipython3",
   "version": "3.7.6"
  }
 },
 "nbformat": 4,
 "nbformat_minor": 2
}
