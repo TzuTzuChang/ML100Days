{
 "cells": [
  {
   "cell_type": "markdown",
   "metadata": {},
   "source": [
    "## Work\n",
    "1. 試比較 save_best_only 與否的差異\n",
    "2. 請僅存入將 save_weights_only 設定為 True, 並嘗試 reset ipynb 並將模型與權重重新建回並預測 x_test"
   ]
  },
  {
   "cell_type": "code",
   "execution_count": 1,
   "metadata": {},
   "outputs": [],
   "source": [
    "import os\n",
    "import keras\n",
    "\n",
    "#Disable GPU\n",
    "#os.environ[\"CUDA_VISIBLE_DEVICES\"] = \"\""
   ]
  },
  {
   "cell_type": "code",
   "execution_count": 2,
   "metadata": {},
   "outputs": [],
   "source": [
    "train, test = keras.datasets.cifar10.load_data()"
   ]
  },
  {
   "cell_type": "code",
   "execution_count": 3,
   "metadata": {},
   "outputs": [],
   "source": [
    "## 資料前處理\n",
    "def preproc_x(x, flatten=True):\n",
    "    x = x / 255.\n",
    "    if flatten:\n",
    "        x = x.reshape((len(x), -1))\n",
    "    return x\n",
    "\n",
    "def preproc_y(y, num_classes=10):\n",
    "    if y.shape[-1] == 1:\n",
    "        y = keras.utils.to_categorical(y, num_classes)\n",
    "    return y    "
   ]
  },
  {
   "cell_type": "code",
   "execution_count": 4,
   "metadata": {},
   "outputs": [],
   "source": [
    "x_train, y_train = train\n",
    "x_test, y_test = test\n",
    "\n",
    "# Preproc the inputs\n",
    "x_train = preproc_x(x_train)\n",
    "x_test = preproc_x(x_test)\n",
    "\n",
    "# Preprc the outputs\n",
    "y_train = preproc_y(y_train)\n",
    "y_test = preproc_y(y_test)"
   ]
  },
  {
   "cell_type": "code",
   "execution_count": 5,
   "metadata": {},
   "outputs": [],
   "source": [
    "from keras.layers import BatchNormalization\n",
    "\"\"\"\n",
    "建立神經網路，並加入 BN layer\n",
    "\"\"\"\n",
    "def build_mlp(input_shape, output_units=10, num_neurons=[512, 256, 128]):\n",
    "    input_layer = keras.layers.Input(input_shape)\n",
    "    \n",
    "    for i, n_units in enumerate(num_neurons):\n",
    "        if i == 0:\n",
    "            x = keras.layers.Dense(units=n_units, \n",
    "                                   activation=\"relu\", \n",
    "                                   name=\"hidden_layer\"+str(i+1))(input_layer)\n",
    "            x = BatchNormalization()(x)\n",
    "        else:\n",
    "            x = keras.layers.Dense(units=n_units, \n",
    "                                   activation=\"relu\", \n",
    "                                   name=\"hidden_layer\"+str(i+1))(x)\n",
    "            x = BatchNormalization()(x)\n",
    "    \n",
    "    out = keras.layers.Dense(units=output_units, activation=\"softmax\", name=\"output\")(x)\n",
    "    \n",
    "    model = keras.models.Model(inputs=[input_layer], outputs=[out])\n",
    "    return model"
   ]
  },
  {
   "cell_type": "code",
   "execution_count": 6,
   "metadata": {},
   "outputs": [],
   "source": [
    "\"\"\"Code Here\n",
    "設定超參數\n",
    "\"\"\"\n",
    "LEARNING_RATE = 1e-3\n",
    "EPOCHS = 50\n",
    "BATCH_SIZE = 1024\n",
    "MOMENTUM = 0.95"
   ]
  },
  {
   "cell_type": "code",
   "execution_count": 7,
   "metadata": {},
   "outputs": [],
   "source": [
    "#載入Callbacks\n",
    "#save_best_only=False, 若設置為True時, 將只保存在驗證及上性能最好的模型\n",
    "\"\"\"Code Here\n",
    "設定 callbacks: model checkpoint\n",
    "\"\"\"\n",
    "from keras.callbacks import ModelCheckpoint\n",
    "\n",
    "model_ckpt = ModelCheckpoint(filepath=\"./saveWOT.h5\", \n",
    "                             monitor=\"val_loss\", \n",
    "                             save_best_only=False)"
   ]
  },
  {
   "cell_type": "code",
   "execution_count": 8,
   "metadata": {},
   "outputs": [
    {
     "name": "stdout",
     "output_type": "stream",
     "text": [
      "Model: \"functional_1\"\n",
      "_________________________________________________________________\n",
      "Layer (type)                 Output Shape              Param #   \n",
      "=================================================================\n",
      "input_1 (InputLayer)         [(None, 3072)]            0         \n",
      "_________________________________________________________________\n",
      "hidden_layer1 (Dense)        (None, 512)               1573376   \n",
      "_________________________________________________________________\n",
      "batch_normalization (BatchNo (None, 512)               2048      \n",
      "_________________________________________________________________\n",
      "hidden_layer2 (Dense)        (None, 256)               131328    \n",
      "_________________________________________________________________\n",
      "batch_normalization_1 (Batch (None, 256)               1024      \n",
      "_________________________________________________________________\n",
      "hidden_layer3 (Dense)        (None, 128)               32896     \n",
      "_________________________________________________________________\n",
      "batch_normalization_2 (Batch (None, 128)               512       \n",
      "_________________________________________________________________\n",
      "output (Dense)               (None, 10)                1290      \n",
      "=================================================================\n",
      "Total params: 1,742,474\n",
      "Trainable params: 1,740,682\n",
      "Non-trainable params: 1,792\n",
      "_________________________________________________________________\n",
      "Epoch 1/50\n",
      "49/49 [==============================] - 2s 50ms/step - loss: 2.2172 - accuracy: 0.2694 - val_loss: 2.1421 - val_accuracy: 0.2089\n",
      "Epoch 2/50\n",
      "49/49 [==============================] - 2s 44ms/step - loss: 1.7442 - accuracy: 0.3935 - val_loss: 1.9651 - val_accuracy: 0.2903\n",
      "Epoch 3/50\n",
      "49/49 [==============================] - 2s 46ms/step - loss: 1.6175 - accuracy: 0.4345 - val_loss: 1.8269 - val_accuracy: 0.3618\n",
      "Epoch 4/50\n",
      "49/49 [==============================] - 2s 47ms/step - loss: 1.5424 - accuracy: 0.4604 - val_loss: 1.7137 - val_accuracy: 0.4073\n",
      "Epoch 5/50\n",
      "49/49 [==============================] - 2s 45ms/step - loss: 1.4888 - accuracy: 0.4780 - val_loss: 1.6386 - val_accuracy: 0.4316\n",
      "Epoch 6/50\n",
      "49/49 [==============================] - 2s 47ms/step - loss: 1.4398 - accuracy: 0.4979 - val_loss: 1.5926 - val_accuracy: 0.4425\n",
      "Epoch 7/50\n",
      "49/49 [==============================] - 2s 48ms/step - loss: 1.4018 - accuracy: 0.5117 - val_loss: 1.5513 - val_accuracy: 0.4579\n",
      "Epoch 8/50\n",
      "49/49 [==============================] - 2s 50ms/step - loss: 1.3656 - accuracy: 0.5252 - val_loss: 1.5229 - val_accuracy: 0.4626\n",
      "Epoch 9/50\n",
      "49/49 [==============================] - 2s 49ms/step - loss: 1.3333 - accuracy: 0.5356 - val_loss: 1.5020 - val_accuracy: 0.4769\n",
      "Epoch 10/50\n",
      "49/49 [==============================] - 3s 60ms/step - loss: 1.3037 - accuracy: 0.5478 - val_loss: 1.4851 - val_accuracy: 0.4772\n",
      "Epoch 11/50\n",
      "49/49 [==============================] - 2s 49ms/step - loss: 1.2741 - accuracy: 0.5568 - val_loss: 1.4813 - val_accuracy: 0.4764\n",
      "Epoch 12/50\n",
      "49/49 [==============================] - 2s 50ms/step - loss: 1.2468 - accuracy: 0.5660 - val_loss: 1.4727 - val_accuracy: 0.4798\n",
      "Epoch 13/50\n",
      "49/49 [==============================] - 3s 52ms/step - loss: 1.2224 - accuracy: 0.5760 - val_loss: 1.4642 - val_accuracy: 0.4831\n",
      "Epoch 14/50\n",
      "49/49 [==============================] - 3s 54ms/step - loss: 1.1949 - accuracy: 0.5856 - val_loss: 1.4954 - val_accuracy: 0.4754\n",
      "Epoch 15/50\n",
      "49/49 [==============================] - 2s 51ms/step - loss: 1.1724 - accuracy: 0.5931 - val_loss: 1.4607 - val_accuracy: 0.4899\n",
      "Epoch 16/50\n",
      "49/49 [==============================] - 3s 52ms/step - loss: 1.1485 - accuracy: 0.6038 - val_loss: 1.4621 - val_accuracy: 0.4857\n",
      "Epoch 17/50\n",
      "49/49 [==============================] - 3s 70ms/step - loss: 1.1266 - accuracy: 0.6116 - val_loss: 1.4493 - val_accuracy: 0.4914\n",
      "Epoch 18/50\n",
      "49/49 [==============================] - 3s 55ms/step - loss: 1.1027 - accuracy: 0.6205 - val_loss: 1.4529 - val_accuracy: 0.4937\n",
      "Epoch 19/50\n",
      "49/49 [==============================] - 2s 49ms/step - loss: 1.0798 - accuracy: 0.6289 - val_loss: 1.4477 - val_accuracy: 0.4970\n",
      "Epoch 20/50\n",
      "49/49 [==============================] - 2s 49ms/step - loss: 1.0582 - accuracy: 0.6376 - val_loss: 1.4554 - val_accuracy: 0.4897\n",
      "Epoch 21/50\n",
      "49/49 [==============================] - 2s 48ms/step - loss: 1.0357 - accuracy: 0.6451 - val_loss: 1.4541 - val_accuracy: 0.4950\n",
      "Epoch 22/50\n",
      "49/49 [==============================] - 2s 49ms/step - loss: 1.0142 - accuracy: 0.6550 - val_loss: 1.4490 - val_accuracy: 0.4916\n",
      "Epoch 23/50\n",
      "49/49 [==============================] - 2s 48ms/step - loss: 0.9957 - accuracy: 0.6638 - val_loss: 1.4587 - val_accuracy: 0.4938\n",
      "Epoch 24/50\n",
      "49/49 [==============================] - 2s 49ms/step - loss: 0.9751 - accuracy: 0.6713 - val_loss: 1.4773 - val_accuracy: 0.4861\n",
      "Epoch 25/50\n",
      "49/49 [==============================] - 2s 49ms/step - loss: 0.9567 - accuracy: 0.6784 - val_loss: 1.4518 - val_accuracy: 0.4973\n",
      "Epoch 26/50\n",
      "49/49 [==============================] - 2s 48ms/step - loss: 0.9354 - accuracy: 0.6849 - val_loss: 1.4731 - val_accuracy: 0.4896\n",
      "Epoch 27/50\n",
      "49/49 [==============================] - 2s 49ms/step - loss: 0.9157 - accuracy: 0.6948 - val_loss: 1.4791 - val_accuracy: 0.4908\n",
      "Epoch 28/50\n",
      "49/49 [==============================] - 2s 48ms/step - loss: 0.8946 - accuracy: 0.7021 - val_loss: 1.4656 - val_accuracy: 0.4979\n",
      "Epoch 29/50\n",
      "49/49 [==============================] - 2s 48ms/step - loss: 0.8735 - accuracy: 0.7107 - val_loss: 1.4844 - val_accuracy: 0.4976\n",
      "Epoch 30/50\n",
      "49/49 [==============================] - 2s 48ms/step - loss: 0.8561 - accuracy: 0.7179 - val_loss: 1.4794 - val_accuracy: 0.4926\n",
      "Epoch 31/50\n",
      "49/49 [==============================] - 2s 48ms/step - loss: 0.8352 - accuracy: 0.7253 - val_loss: 1.4882 - val_accuracy: 0.4950\n",
      "Epoch 32/50\n",
      "49/49 [==============================] - 2s 48ms/step - loss: 0.8162 - accuracy: 0.7324 - val_loss: 1.5051 - val_accuracy: 0.4987\n",
      "Epoch 33/50\n",
      "49/49 [==============================] - 2s 48ms/step - loss: 0.7975 - accuracy: 0.7403 - val_loss: 1.4995 - val_accuracy: 0.4931\n",
      "Epoch 34/50\n",
      "49/49 [==============================] - 2s 50ms/step - loss: 0.7772 - accuracy: 0.7485 - val_loss: 1.5185 - val_accuracy: 0.4966\n",
      "Epoch 35/50\n",
      "49/49 [==============================] - 3s 53ms/step - loss: 0.7603 - accuracy: 0.7544 - val_loss: 1.5159 - val_accuracy: 0.4933\n",
      "Epoch 36/50\n",
      "49/49 [==============================] - 3s 51ms/step - loss: 0.7401 - accuracy: 0.7628 - val_loss: 1.5226 - val_accuracy: 0.4991\n",
      "Epoch 37/50\n",
      "49/49 [==============================] - 3s 57ms/step - loss: 0.7227 - accuracy: 0.7708 - val_loss: 1.5299 - val_accuracy: 0.4938\n",
      "Epoch 38/50\n",
      "49/49 [==============================] - 3s 65ms/step - loss: 0.7049 - accuracy: 0.7771 - val_loss: 1.5297 - val_accuracy: 0.5015\n",
      "Epoch 39/50\n",
      "49/49 [==============================] - 4s 73ms/step - loss: 0.6851 - accuracy: 0.7854 - val_loss: 1.5563 - val_accuracy: 0.4935\n",
      "Epoch 40/50\n",
      "49/49 [==============================] - 4s 76ms/step - loss: 0.6661 - accuracy: 0.7931 - val_loss: 1.5697 - val_accuracy: 0.4930\n",
      "Epoch 41/50\n",
      "49/49 [==============================] - 3s 68ms/step - loss: 0.6502 - accuracy: 0.7992 - val_loss: 1.5803 - val_accuracy: 0.4920\n",
      "Epoch 42/50\n",
      "49/49 [==============================] - 3s 60ms/step - loss: 0.6304 - accuracy: 0.8061 - val_loss: 1.6079 - val_accuracy: 0.4884\n",
      "Epoch 43/50\n",
      "49/49 [==============================] - 3s 55ms/step - loss: 0.6113 - accuracy: 0.8140 - val_loss: 1.5925 - val_accuracy: 0.4939\n",
      "Epoch 44/50\n",
      "49/49 [==============================] - 2s 50ms/step - loss: 0.5938 - accuracy: 0.8208 - val_loss: 1.5957 - val_accuracy: 0.4904\n",
      "Epoch 45/50\n",
      "49/49 [==============================] - 2s 50ms/step - loss: 0.5787 - accuracy: 0.8283 - val_loss: 1.6163 - val_accuracy: 0.4875\n",
      "Epoch 46/50\n",
      "49/49 [==============================] - 2s 48ms/step - loss: 0.5607 - accuracy: 0.8341 - val_loss: 1.6301 - val_accuracy: 0.4896\n",
      "Epoch 47/50\n",
      "49/49 [==============================] - 2s 49ms/step - loss: 0.5429 - accuracy: 0.8398 - val_loss: 1.6450 - val_accuracy: 0.4917\n",
      "Epoch 48/50\n",
      "49/49 [==============================] - 3s 52ms/step - loss: 0.5275 - accuracy: 0.8481 - val_loss: 1.6508 - val_accuracy: 0.4895\n"
     ]
    },
    {
     "name": "stdout",
     "output_type": "stream",
     "text": [
      "Epoch 49/50\n",
      "49/49 [==============================] - 3s 51ms/step - loss: 0.5100 - accuracy: 0.8548 - val_loss: 1.6675 - val_accuracy: 0.4883\n",
      "Epoch 50/50\n",
      "49/49 [==============================] - 3s 56ms/step - loss: 0.4970 - accuracy: 0.8581 - val_loss: 1.6928 - val_accuracy: 0.4847\n",
      "313/313 [==============================] - 1s 2ms/step - loss: 1.6740 - accuracy: 0.4842\n"
     ]
    }
   ],
   "source": [
    "\"\"\"Code Here\n",
    "撰寫你的訓練流程並將結果用 dictionary 紀錄\n",
    "\"\"\"\n",
    "model = build_mlp(input_shape=x_train.shape[1:])\n",
    "model.summary()\n",
    "optimizer = keras.optimizers.SGD(lr=LEARNING_RATE, nesterov=True, momentum=MOMENTUM)\n",
    "model.compile(loss=\"categorical_crossentropy\", metrics=[\"accuracy\"], optimizer=optimizer)\n",
    "\n",
    "model.fit(x_train, y_train, \n",
    "          epochs=EPOCHS, \n",
    "          batch_size=BATCH_SIZE, \n",
    "          validation_data=(x_test, y_test), \n",
    "          shuffle=True,\n",
    "          callbacks=[model_ckpt]\n",
    "         )\n",
    "\n",
    "# Collect results\n",
    "train_loss = model.history.history[\"loss\"]\n",
    "valid_loss = model.history.history[\"val_loss\"]\n",
    "train_acc = model.history.history[\"accuracy\"]\n",
    "valid_acc = model.history.history[\"val_accuracy\"]\n",
    "\n",
    "# Load back\n",
    "model = keras.models.load_model(\"./saveBOF.h5\")\n",
    "loss_loadback, acc_loadback = model.evaluate(x_test, y_test)"
   ]
  },
  {
   "cell_type": "code",
   "execution_count": 9,
   "metadata": {
    "scrolled": true
   },
   "outputs": [
    {
     "data": {
      "image/png": "[encoded data removed]",
      "text/plain": [
       "<Figure size 432x288 with 1 Axes>"
      ]
     },
     "metadata": {
      "needs_background": "light"
     },
     "output_type": "display_data"
    },
    {
     "data": {
      "image/png": "[encoded data removed]",
      "text/plain": [
       "<Figure size 432x288 with 1 Axes>"
      ]
     },
     "metadata": {
      "needs_background": "light"
     },
     "output_type": "display_data"
    }
   ],
   "source": [
    "\"\"\"Code Here\n",
    "將結果繪出\n",
    "\"\"\"\n",
    "import matplotlib.pyplot as plt\n",
    "%matplotlib inline\n",
    "\n",
    "plt.plot(range(len(train_loss)), train_loss, label=\"train loss\")\n",
    "plt.plot(range(len(valid_loss)), valid_loss, label=\"valid loss\")\n",
    "plt.hlines(y=loss_loadback, xmin=0, xmax=len(train_loss), colors='r', linestyles='--')\n",
    "plt.legend()\n",
    "plt.title(\"Loss\")\n",
    "plt.show()\n",
    "\n",
    "plt.plot(range(len(train_acc)), train_acc, label=\"train accuracy\")\n",
    "plt.plot(range(len(valid_acc)), valid_acc, label=\"valid accuracy\")\n",
    "plt.hlines(y=acc_loadback, xmin=0, xmax=len(train_loss), colors='r', linestyles='--')\n",
    "plt.legend()\n",
    "plt.title(\"Accuracy\")\n",
    "plt.show()"
   ]
  }
 ],
 "metadata": {
  "kernelspec": {
   "display_name": "Python 3",
   "language": "python",
   "name": "python3"
  },
  "language_info": {
   "codemirror_mode": {
    "name": "ipython",
    "version": 3
   },
   "file_extension": ".py",
   "mimetype": "text/x-python",
   "name": "python",
   "nbconvert_exporter": "python",
   "pygments_lexer": "ipython3",
   "version": "3.7.6"
  }
 },
 "nbformat": 4,
 "nbformat_minor": 2
}
