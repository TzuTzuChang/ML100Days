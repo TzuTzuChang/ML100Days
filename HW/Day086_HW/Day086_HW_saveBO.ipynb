{
 "cells": [
  {
   "cell_type": "markdown",
   "metadata": {},
   "source": [
    "## Work\n",
    "1. 試比較 save_best_only 與否的差異\n",
    "2. 請僅存入將 save_weights_only 設定為 True, 並嘗試 reset ipynb 並將模型與權重重新建回並預測 x_test"
   ]
  },
  {
   "cell_type": "code",
   "execution_count": 1,
   "metadata": {},
   "outputs": [],
   "source": [
    "import os\n",
    "import keras\n",
    "\n",
    "#Disable GPU\n",
    "#os.environ[\"CUDA_VISIBLE_DEVICES\"] = \"\""
   ]
  },
  {
   "cell_type": "code",
   "execution_count": 2,
   "metadata": {},
   "outputs": [],
   "source": [
    "train, test = keras.datasets.cifar10.load_data()"
   ]
  },
  {
   "cell_type": "code",
   "execution_count": 3,
   "metadata": {},
   "outputs": [],
   "source": [
    "## 資料前處理\n",
    "def preproc_x(x, flatten=True):\n",
    "    x = x / 255.\n",
    "    if flatten:\n",
    "        x = x.reshape((len(x), -1))\n",
    "    return x\n",
    "\n",
    "def preproc_y(y, num_classes=10):\n",
    "    if y.shape[-1] == 1:\n",
    "        y = keras.utils.to_categorical(y, num_classes)\n",
    "    return y    "
   ]
  },
  {
   "cell_type": "code",
   "execution_count": 4,
   "metadata": {},
   "outputs": [],
   "source": [
    "x_train, y_train = train\n",
    "x_test, y_test = test\n",
    "\n",
    "# Preproc the inputs\n",
    "x_train = preproc_x(x_train)\n",
    "x_test = preproc_x(x_test)\n",
    "\n",
    "# Preprc the outputs\n",
    "y_train = preproc_y(y_train)\n",
    "y_test = preproc_y(y_test)"
   ]
  },
  {
   "cell_type": "code",
   "execution_count": 5,
   "metadata": {},
   "outputs": [],
   "source": [
    "from keras.layers import BatchNormalization\n",
    "\"\"\"\n",
    "建立神經網路，並加入 BN layer\n",
    "\"\"\"\n",
    "def build_mlp(input_shape, output_units=10, num_neurons=[512, 256, 128]):\n",
    "    input_layer = keras.layers.Input(input_shape)\n",
    "    \n",
    "    for i, n_units in enumerate(num_neurons):\n",
    "        if i == 0:\n",
    "            x = keras.layers.Dense(units=n_units, \n",
    "                                   activation=\"relu\", \n",
    "                                   name=\"hidden_layer\"+str(i+1))(input_layer)\n",
    "            x = BatchNormalization()(x)\n",
    "        else:\n",
    "            x = keras.layers.Dense(units=n_units, \n",
    "                                   activation=\"relu\", \n",
    "                                   name=\"hidden_layer\"+str(i+1))(x)\n",
    "            x = BatchNormalization()(x)\n",
    "    \n",
    "    out = keras.layers.Dense(units=output_units, activation=\"softmax\", name=\"output\")(x)\n",
    "    \n",
    "    model = keras.models.Model(inputs=[input_layer], outputs=[out])\n",
    "    return model"
   ]
  },
  {
   "cell_type": "code",
   "execution_count": 6,
   "metadata": {},
   "outputs": [],
   "source": [
    "\"\"\"Code Here\n",
    "設定超參數\n",
    "\"\"\"\n",
    "LEARNING_RATE = 1e-3\n",
    "EPOCHS = 50\n",
    "BATCH_SIZE = 1024\n",
    "MOMENTUM = 0.95"
   ]
  },
  {
   "cell_type": "code",
   "execution_count": 7,
   "metadata": {},
   "outputs": [],
   "source": [
    "#載入Callbacks\n",
    "#save_best_only=False, 若設置為True時, 將只保存在驗證及上性能最好的模型\n",
    "\"\"\"Code Here\n",
    "設定 callbacks: model checkpoint\n",
    "\"\"\"\n",
    "from keras.callbacks import ModelCheckpoint\n",
    "\n",
    "model_ckpt = ModelCheckpoint(filepath=\"./saveBOF.h5\", \n",
    "                             monitor=\"val_loss\", \n",
    "                             save_best_only=False)"
   ]
  },
  {
   "cell_type": "code",
   "execution_count": 8,
   "metadata": {},
   "outputs": [
    {
     "name": "stdout",
     "output_type": "stream",
     "text": [
      "Model: \"functional_1\"\n",
      "_________________________________________________________________\n",
      "Layer (type)                 Output Shape              Param #   \n",
      "=================================================================\n",
      "input_1 (InputLayer)         [(None, 3072)]            0         \n",
      "_________________________________________________________________\n",
      "hidden_layer1 (Dense)        (None, 512)               1573376   \n",
      "_________________________________________________________________\n",
      "batch_normalization (BatchNo (None, 512)               2048      \n",
      "_________________________________________________________________\n",
      "hidden_layer2 (Dense)        (None, 256)               131328    \n",
      "_________________________________________________________________\n",
      "batch_normalization_1 (Batch (None, 256)               1024      \n",
      "_________________________________________________________________\n",
      "hidden_layer3 (Dense)        (None, 128)               32896     \n",
      "_________________________________________________________________\n",
      "batch_normalization_2 (Batch (None, 128)               512       \n",
      "_________________________________________________________________\n",
      "output (Dense)               (None, 10)                1290      \n",
      "=================================================================\n",
      "Total params: 1,742,474\n",
      "Trainable params: 1,740,682\n",
      "Non-trainable params: 1,792\n",
      "_________________________________________________________________\n",
      "Epoch 1/50\n",
      "49/49 [==============================] - 2s 48ms/step - loss: 2.2176 - accuracy: 0.2650 - val_loss: 2.1172 - val_accuracy: 0.2221\n",
      "Epoch 2/50\n",
      "49/49 [==============================] - 2s 44ms/step - loss: 1.7488 - accuracy: 0.3891 - val_loss: 1.9714 - val_accuracy: 0.3012\n",
      "Epoch 3/50\n",
      "49/49 [==============================] - 2s 50ms/step - loss: 1.6270 - accuracy: 0.4307 - val_loss: 1.8448 - val_accuracy: 0.3561\n",
      "Epoch 4/50\n",
      "49/49 [==============================] - 2s 49ms/step - loss: 1.5530 - accuracy: 0.4575 - val_loss: 1.7305 - val_accuracy: 0.3970\n",
      "Epoch 5/50\n",
      "49/49 [==============================] - 2s 46ms/step - loss: 1.4985 - accuracy: 0.4767 - val_loss: 1.6668 - val_accuracy: 0.4171\n",
      "Epoch 6/50\n",
      "49/49 [==============================] - 2s 47ms/step - loss: 1.4529 - accuracy: 0.4931 - val_loss: 1.6094 - val_accuracy: 0.4282\n",
      "Epoch 7/50\n",
      "49/49 [==============================] - 2s 51ms/step - loss: 1.4139 - accuracy: 0.5064 - val_loss: 1.5785 - val_accuracy: 0.4381\n",
      "Epoch 8/50\n",
      "49/49 [==============================] - 2s 46ms/step - loss: 1.3772 - accuracy: 0.5203 - val_loss: 1.5373 - val_accuracy: 0.4585\n",
      "Epoch 9/50\n",
      "49/49 [==============================] - 2s 47ms/step - loss: 1.3421 - accuracy: 0.5335 - val_loss: 1.5157 - val_accuracy: 0.4594\n",
      "Epoch 10/50\n",
      "49/49 [==============================] - 2s 47ms/step - loss: 1.3123 - accuracy: 0.5448 - val_loss: 1.5093 - val_accuracy: 0.4625\n",
      "Epoch 11/50\n",
      "49/49 [==============================] - 2s 47ms/step - loss: 1.2836 - accuracy: 0.5559 - val_loss: 1.4953 - val_accuracy: 0.4694\n",
      "Epoch 12/50\n",
      "49/49 [==============================] - 2s 48ms/step - loss: 1.2552 - accuracy: 0.5667 - val_loss: 1.5086 - val_accuracy: 0.4645\n",
      "Epoch 13/50\n",
      "49/49 [==============================] - 2s 47ms/step - loss: 1.2303 - accuracy: 0.5762 - val_loss: 1.4887 - val_accuracy: 0.4752\n",
      "Epoch 14/50\n",
      "49/49 [==============================] - 2s 47ms/step - loss: 1.2048 - accuracy: 0.5848 - val_loss: 1.4865 - val_accuracy: 0.4718\n",
      "Epoch 15/50\n",
      "49/49 [==============================] - 2s 47ms/step - loss: 1.1798 - accuracy: 0.5953 - val_loss: 1.4950 - val_accuracy: 0.4724\n",
      "Epoch 16/50\n",
      "49/49 [==============================] - 2s 48ms/step - loss: 1.1578 - accuracy: 0.6035 - val_loss: 1.4670 - val_accuracy: 0.4820\n",
      "Epoch 17/50\n",
      "49/49 [==============================] - 2s 48ms/step - loss: 1.1346 - accuracy: 0.6107 - val_loss: 1.4764 - val_accuracy: 0.4795\n",
      "Epoch 18/50\n",
      "49/49 [==============================] - 2s 48ms/step - loss: 1.1119 - accuracy: 0.6189 - val_loss: 1.4673 - val_accuracy: 0.4868\n",
      "Epoch 19/50\n",
      "49/49 [==============================] - 2s 50ms/step - loss: 1.0881 - accuracy: 0.6281 - val_loss: 1.4695 - val_accuracy: 0.4846\n",
      "Epoch 20/50\n",
      "49/49 [==============================] - 2s 49ms/step - loss: 1.0645 - accuracy: 0.6392 - val_loss: 1.4709 - val_accuracy: 0.4851\n",
      "Epoch 21/50\n",
      "49/49 [==============================] - 2s 48ms/step - loss: 1.0458 - accuracy: 0.6449 - val_loss: 1.4689 - val_accuracy: 0.4828\n",
      "Epoch 22/50\n",
      "49/49 [==============================] - 2s 49ms/step - loss: 1.0256 - accuracy: 0.6537 - val_loss: 1.4776 - val_accuracy: 0.4842\n",
      "Epoch 23/50\n",
      "49/49 [==============================] - 2s 48ms/step - loss: 1.0048 - accuracy: 0.6616 - val_loss: 1.4739 - val_accuracy: 0.4808\n",
      "Epoch 24/50\n",
      "49/49 [==============================] - 2s 49ms/step - loss: 0.9866 - accuracy: 0.6675 - val_loss: 1.4816 - val_accuracy: 0.4836\n",
      "Epoch 25/50\n",
      "49/49 [==============================] - 2s 48ms/step - loss: 0.9649 - accuracy: 0.6767 - val_loss: 1.4738 - val_accuracy: 0.4878\n",
      "Epoch 26/50\n",
      "49/49 [==============================] - 2s 48ms/step - loss: 0.9442 - accuracy: 0.6843 - val_loss: 1.4887 - val_accuracy: 0.4839\n",
      "Epoch 27/50\n",
      "49/49 [==============================] - 2s 48ms/step - loss: 0.9254 - accuracy: 0.6929 - val_loss: 1.4864 - val_accuracy: 0.4870\n",
      "Epoch 28/50\n",
      "49/49 [==============================] - 2s 49ms/step - loss: 0.9032 - accuracy: 0.7006 - val_loss: 1.4845 - val_accuracy: 0.4916\n",
      "Epoch 29/50\n",
      "49/49 [==============================] - 2s 48ms/step - loss: 0.8849 - accuracy: 0.7084 - val_loss: 1.4907 - val_accuracy: 0.4849\n",
      "Epoch 30/50\n",
      "49/49 [==============================] - 2s 48ms/step - loss: 0.8660 - accuracy: 0.7149 - val_loss: 1.4977 - val_accuracy: 0.4870\n",
      "Epoch 31/50\n",
      "49/49 [==============================] - 2s 48ms/step - loss: 0.8484 - accuracy: 0.7226 - val_loss: 1.5032 - val_accuracy: 0.4889\n",
      "Epoch 32/50\n",
      "49/49 [==============================] - 2s 48ms/step - loss: 0.8271 - accuracy: 0.7292 - val_loss: 1.4948 - val_accuracy: 0.4923\n",
      "Epoch 33/50\n",
      "49/49 [==============================] - 2s 48ms/step - loss: 0.8093 - accuracy: 0.7383 - val_loss: 1.5171 - val_accuracy: 0.4928\n",
      "Epoch 34/50\n",
      "49/49 [==============================] - 2s 48ms/step - loss: 0.7879 - accuracy: 0.7463 - val_loss: 1.5241 - val_accuracy: 0.4938\n",
      "Epoch 35/50\n",
      "49/49 [==============================] - 2s 49ms/step - loss: 0.7714 - accuracy: 0.7531 - val_loss: 1.5312 - val_accuracy: 0.4902\n",
      "Epoch 36/50\n",
      "49/49 [==============================] - 2s 48ms/step - loss: 0.7523 - accuracy: 0.7595 - val_loss: 1.5305 - val_accuracy: 0.4833\n",
      "Epoch 37/50\n",
      "49/49 [==============================] - 2s 48ms/step - loss: 0.7348 - accuracy: 0.7681 - val_loss: 1.5443 - val_accuracy: 0.4825\n",
      "Epoch 38/50\n",
      "49/49 [==============================] - 2s 48ms/step - loss: 0.7162 - accuracy: 0.7736 - val_loss: 1.5350 - val_accuracy: 0.4898\n",
      "Epoch 39/50\n",
      "49/49 [==============================] - 2s 48ms/step - loss: 0.6978 - accuracy: 0.7806 - val_loss: 1.5610 - val_accuracy: 0.4845\n",
      "Epoch 40/50\n",
      "49/49 [==============================] - 2s 48ms/step - loss: 0.6795 - accuracy: 0.7868 - val_loss: 1.5734 - val_accuracy: 0.4906\n",
      "Epoch 41/50\n",
      "49/49 [==============================] - 2s 48ms/step - loss: 0.6603 - accuracy: 0.7958 - val_loss: 1.5761 - val_accuracy: 0.4838\n",
      "Epoch 42/50\n",
      "49/49 [==============================] - 2s 48ms/step - loss: 0.6466 - accuracy: 0.8000 - val_loss: 1.5815 - val_accuracy: 0.4925\n",
      "Epoch 43/50\n",
      "49/49 [==============================] - 2s 48ms/step - loss: 0.6253 - accuracy: 0.8116 - val_loss: 1.6008 - val_accuracy: 0.4820\n",
      "Epoch 44/50\n",
      "49/49 [==============================] - 2s 48ms/step - loss: 0.6097 - accuracy: 0.8153 - val_loss: 1.6120 - val_accuracy: 0.4833\n",
      "Epoch 45/50\n",
      "49/49 [==============================] - 2s 49ms/step - loss: 0.5922 - accuracy: 0.8214 - val_loss: 1.6084 - val_accuracy: 0.4908\n",
      "Epoch 46/50\n",
      "49/49 [==============================] - 2s 48ms/step - loss: 0.5764 - accuracy: 0.8286 - val_loss: 1.6229 - val_accuracy: 0.4839\n",
      "Epoch 47/50\n",
      "49/49 [==============================] - 2s 48ms/step - loss: 0.5572 - accuracy: 0.8379 - val_loss: 1.6506 - val_accuracy: 0.4872\n",
      "Epoch 48/50\n",
      "49/49 [==============================] - 2s 49ms/step - loss: 0.5411 - accuracy: 0.8434 - val_loss: 1.6760 - val_accuracy: 0.4894\n"
     ]
    },
    {
     "name": "stdout",
     "output_type": "stream",
     "text": [
      "Epoch 49/50\n",
      "49/49 [==============================] - 2s 47ms/step - loss: 0.5260 - accuracy: 0.8479 - val_loss: 1.6709 - val_accuracy: 0.4852\n",
      "Epoch 50/50\n",
      "49/49 [==============================] - 2s 47ms/step - loss: 0.5091 - accuracy: 0.8550 - val_loss: 1.6740 - val_accuracy: 0.4842\n",
      "313/313 [==============================] - 0s 2ms/step - loss: 1.6740 - accuracy: 0.4842\n"
     ]
    }
   ],
   "source": [
    "\"\"\"Code Here\n",
    "撰寫你的訓練流程並將結果用 dictionary 紀錄\n",
    "\"\"\"\n",
    "model = build_mlp(input_shape=x_train.shape[1:])\n",
    "model.summary()\n",
    "optimizer = keras.optimizers.SGD(lr=LEARNING_RATE, nesterov=True, momentum=MOMENTUM)\n",
    "model.compile(loss=\"categorical_crossentropy\", metrics=[\"accuracy\"], optimizer=optimizer)\n",
    "\n",
    "model.fit(x_train, y_train, \n",
    "          epochs=EPOCHS, \n",
    "          batch_size=BATCH_SIZE, \n",
    "          validation_data=(x_test, y_test), \n",
    "          shuffle=True,\n",
    "          callbacks=[model_ckpt]\n",
    "         )\n",
    "\n",
    "# Collect results\n",
    "train_loss = model.history.history[\"loss\"]\n",
    "valid_loss = model.history.history[\"val_loss\"]\n",
    "train_acc = model.history.history[\"accuracy\"]\n",
    "valid_acc = model.history.history[\"val_accuracy\"]\n",
    "\n",
    "# Load back\n",
    "model = keras.models.load_model(\"./saveBOF.h5\")\n",
    "loss_loadback, acc_loadback = model.evaluate(x_test, y_test)"
   ]
  },
  {
   "cell_type": "code",
   "execution_count": 9,
   "metadata": {
    "scrolled": true
   },
   "outputs": [
    {
     "data": {
      "image/png": "[encoded data removed]",
      "text/plain": [
       "<Figure size 432x288 with 1 Axes>"
      ]
     },
     "metadata": {
      "needs_background": "light"
     },
     "output_type": "display_data"
    },
    {
     "data": {
      "image/png": "[encoded data removed]",
      "text/plain": [
       "<Figure size 432x288 with 1 Axes>"
      ]
     },
     "metadata": {
      "needs_background": "light"
     },
     "output_type": "display_data"
    }
   ],
   "source": [
    "\"\"\"Code Here\n",
    "將結果繪出\n",
    "\"\"\"\n",
    "import matplotlib.pyplot as plt\n",
    "%matplotlib inline\n",
    "\n",
    "plt.plot(range(len(train_loss)), train_loss, label=\"train loss\")\n",
    "plt.plot(range(len(valid_loss)), valid_loss, label=\"valid loss\")\n",
    "plt.hlines(y=loss_loadback, xmin=0, xmax=len(train_loss), colors='r', linestyles='--')\n",
    "plt.legend()\n",
    "plt.title(\"Loss\")\n",
    "plt.show()\n",
    "\n",
    "plt.plot(range(len(train_acc)), train_acc, label=\"train accuracy\")\n",
    "plt.plot(range(len(valid_acc)), valid_acc, label=\"valid accuracy\")\n",
    "plt.hlines(y=acc_loadback, xmin=0, xmax=len(train_loss), colors='r', linestyles='--')\n",
    "plt.legend()\n",
    "plt.title(\"Accuracy\")\n",
    "plt.show()"
   ]
  }
 ],
 "metadata": {
  "kernelspec": {
   "display_name": "Python 3",
   "language": "python",
   "name": "python3"
  },
  "language_info": {
   "codemirror_mode": {
    "name": "ipython",
    "version": 3
   },
   "file_extension": ".py",
   "mimetype": "text/x-python",
   "name": "python",
   "nbconvert_exporter": "python",
   "pygments_lexer": "ipython3",
   "version": "3.7.6"
  }
 },
 "nbformat": 4,
 "nbformat_minor": 2
}
