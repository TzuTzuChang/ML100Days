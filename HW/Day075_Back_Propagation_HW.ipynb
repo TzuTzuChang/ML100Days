{
 "cells": [
  {
   "cell_type": "markdown",
   "metadata": {},
   "source": [
    "# 作業目標:\n",
    "\n",
    "    通過建立多層的神經網路, 了解權值矩陣更新"
   ]
  },
  {
   "cell_type": "markdown",
   "metadata": {},
   "source": [
    "# 作業重點: \n",
    "\n",
    "3  層神經網路\n",
    "\n",
    "通過增加更多的中間層，以對更多關係的組合進行建模\n",
    "\n",
    "syn1 權值矩陣將隱層的組合輸出映射到最終結果，\n",
    "\n",
    "而在更新 syn1 的同時，還需要更新 syn0 權值矩陣，\n",
    "\n",
    "以從輸入資料中更好地產生這些組合"
   ]
  },
  {
   "cell_type": "code",
   "execution_count": 1,
   "metadata": {},
   "outputs": [],
   "source": [
    "#https://www.cnblogs.com/fclbky/p/5240059.html"
   ]
  },
  {
   "cell_type": "code",
   "execution_count": 2,
   "metadata": {},
   "outputs": [],
   "source": [
    "# import numpy as np\n",
    " \n",
    "# # Sigmoid 函數可以將任何值都映射到一個位於 0 到  1 範圍內的值。通過它，我們可以將實數轉化為概率值\n",
    "# def nonlin(x,deriv=False):\n",
    "#     if(deriv==True):\n",
    "#         return x*(1-x)\n",
    "#     return 1/(1+np.exp(-x))\n",
    "\n",
    "# X = np.array([  [0,0,1],\n",
    "#                 [0,1,1],\n",
    "#                 [1,0,1],\n",
    "#                 [1,1,1] ])  \n",
    "        \n",
    "# # define y for output dataset            "
   ]
  },
  {
   "cell_type": "code",
   "execution_count": 3,
   "metadata": {},
   "outputs": [],
   "source": [
    "import numpy as np\n",
    " \n",
    "#Sigmoid函數可以將任何值都映射到一個位於0到1範圍內的值.通過它, 我們可以將實數轉化為概率值\n",
    "def nonlin(x,deriv=False):\n",
    "    if(deriv==True):\n",
    "        return x*(1-x)\n",
    "    return 1/(1+np.exp(-x))\n",
    "\n",
    "X = np.array([  [0,0,1],\n",
    "                [0,1,1],\n",
    "                [1,0,1],\n",
    "                [1,1,1] ])  \n",
    "        \n",
    "#define y for output dataset\n",
    "y = np.array([[0],\n",
    "            [1],\n",
    "            [1],\n",
    "            [0]])"
   ]
  },
  {
   "cell_type": "code",
   "execution_count": 4,
   "metadata": {},
   "outputs": [],
   "source": [
    "# # seed random numbers to make calculation\n",
    "# # deterministic (just a good practice)\n",
    "# np.random.seed(1)\n",
    "# #亂數設定產生種子得到的權重初始化集仍是隨機分佈的，\n",
    "# #但每次開始訓練時，得到的權重初始集分佈都是完全一致的。\n",
    " \n",
    "# # initialize weights randomly with mean 0\n",
    "# syn0 = 2*np.random.random((3,1)) - 1\n",
    "# # define syn1\n",
    "\n",
    "# iter = 0\n",
    "# #該神經網路權重矩陣的初始化操作。\n",
    "# #用 “syn0” 來代指 (即“輸入層-第一層隱層”間權重矩陣）\n",
    "# #用 “syn1” 來代指 (即“輸入層-第二層隱層”間權重矩陣）"
   ]
  },
  {
   "cell_type": "code",
   "execution_count": 5,
   "metadata": {},
   "outputs": [],
   "source": [
    "#seed random numbers to make calculation\n",
    "#deterministic(just a good practice)\n",
    "np.random.seed(1)\n",
    "#亂數設定產生種子得到的權重初始化集仍是隨機分佈的\n",
    "#但每次開始訓練時, 得到的權重初始集分佈都是完全一致的\n",
    " \n",
    "#initialize weights randomly with mean 0\n",
    "#???作業範例為(3,1), 解答變(3,4)\n",
    "#syn0 = 2*np.random.random((3,1)) - 1\n",
    "syn0 = 2*np.random.random((3,4)) - 1\n",
    "#define syn1\n",
    "syn1 = 2*np.random.random((4,1)) - 1\n",
    "\n",
    "#?解答沒有iter\n",
    "#iter = 0\n",
    "#該神經網路權重矩陣的初始化操作。\n",
    "#用 “syn0” 來代指 (即“輸入層-第一層隱層”間權重矩陣）\n",
    "#用 “syn1” 來代指 (即“輸入層-第二層隱層”間權重矩陣)\n",
    "syn0_history = [syn0]\n",
    "syn1_history = [syn1]"
   ]
  },
  {
   "cell_type": "markdown",
   "metadata": {},
   "source": [
    "神經網路訓練\n",
    "for 迴圈反覆運算式地多次執行訓練代碼，使得我們的網路能更好地擬合訓練集"
   ]
  },
  {
   "cell_type": "code",
   "execution_count": 6,
   "metadata": {},
   "outputs": [],
   "source": [
    "# for iter in range(10000):\n",
    "#     # forward propagation\n",
    "#     l0 = X\n",
    "#     l1 = nonlin(np.dot(l0,syn0))\n",
    "    \n",
    "#     '''\n",
    "#     新增\n",
    "#     l2_error 該值說明了神經網路預測時“丟失”的數目。\n",
    "#     l2_delta 該值為經確信度加權後的神經網路的誤差，除了確信誤差很小時，它近似等於預測誤差。\n",
    "#     '''\n",
    " \n",
    "#     # how much did we miss?\n",
    "#     l1_error = y - l1\n",
    " \n",
    "#     # multiply how much we missed by the \n",
    "#     # slope of the sigmoid at the values in l1\n",
    "#     l1_delta = l1_error * nonlin(l1,True)\n",
    "    \n",
    "#     # update weights\n",
    "#     syn0 += np.dot(l0.T,l1_delta)\n",
    "#      # syn1 update weights\n",
    "    \n",
    "# print(\"Output After Training:\")\n",
    "# print(l1)\n",
    "# print(\"\\n\\n\")\n",
    "# print(l1)"
   ]
  },
  {
   "cell_type": "code",
   "execution_count": 7,
   "metadata": {},
   "outputs": [
    {
     "name": "stdout",
     "output_type": "stream",
     "text": [
      "L2_Error:0.49641003190272537\n",
      "L1_Error:0.49641003190272537\n"
     ]
    }
   ],
   "source": [
    "for j in range(10000):\n",
    "    #forward propagation\n",
    "    l0 = X\n",
    "    l1 = nonlin(np.dot(l0, syn0))\n",
    "    l2 = nonlin(np.dot(l1, syn1))\n",
    "    '''\n",
    "    新增\n",
    "    l2_error 該值說明了神經網路預測時“丟失”的數目。\n",
    "    l2_delta 該值為經確信度加權後的神經網路的誤差，除了確信誤差很小時，它近似等於預測誤差。\n",
    "    '''\n",
    "\n",
    "    # how much did we miss the target value?\n",
    "    # l2_error 該值說明了神經網路預測時“丟失”的數目。\n",
    "    # l2_delta 該值為經確信度加權後的神經網路的誤差，除了確信誤差很小時，它近似等於預測誤差。\n",
    "    # l1_error 該值為 l2_delta 經 syn1 加權後的結果，從而能夠計算得到中間層/隱層的誤差。\n",
    "    # l1_delta 該值為經確信度加權後的神經網路 l1 層的誤差，除了確信誤差很小時，它近似等於 l1_error 。\n",
    "    l2_error = y - l2\n",
    " \n",
    "    if (j% 10000) == 0:\n",
    "        print(\"L2_Error:\" + str(np.mean(np.abs(l2_error))))\n",
    " \n",
    "    # in what direction is the target value?\n",
    "    # were we really sure? if so, don't change too much.\n",
    "    l2_delta = l2_error*nonlin(l2,deriv=True)\n",
    " \n",
    "    # how much did each l1 value contribute to the l2 error (according to the weights)?\n",
    "    l1_error = l2_delta.dot(syn1.T)\n",
    "    \n",
    "    if (j% 10000) == 0:\n",
    "        print(\"L1_Error:\" + str(np.mean(np.abs(l2_error))))\n",
    "    # in what direction is the target l1?\n",
    "    # were we really sure? if so, don't change too much.\n",
    "    l1_delta = l1_error * nonlin(l1,deriv=True)\n",
    " \n",
    "    syn1 += l1.T.dot(l2_delta)\n",
    "    syn0 += l0.T.dot(l1_delta)\n",
    "    \n",
    "    syn1_history.append(syn1)\n",
    "    syn0_history.append(syn0)\n",
    "    \n",
    "# print(\"Output After Training:\")\n",
    "# print(l1)\n",
    "# print(\"\\n\\n\")\n",
    "# print(l2)"
   ]
  },
  {
   "cell_type": "code",
   "execution_count": 8,
   "metadata": {},
   "outputs": [
    {
     "data": {
      "image/png": "[encoded data removed]",
      "text/plain": [
       "<Figure size 432x288 with 1 Axes>"
      ]
     },
     "metadata": {
      "needs_background": "light"
     },
     "output_type": "display_data"
    }
   ],
   "source": [
    "import matplotlib.pyplot as plt\n",
    "%matplotlib inline \n",
    "#適用於 Jupyter Notebook, 宣告直接在cell 內印出執行結果\n",
    "\n",
    "plt.plot(syn0_history[0], ms=3, lw=1.5, color='black')\n",
    "plt.xlabel(r'$L1$', fontsize=16)\n",
    "plt.show()"
   ]
  },
  {
   "cell_type": "code",
   "execution_count": 9,
   "metadata": {},
   "outputs": [
    {
     "data": {
      "image/png": "[encoded data removed]",
      "text/plain": [
       "<Figure size 432x288 with 1 Axes>"
      ]
     },
     "metadata": {
      "needs_background": "light"
     },
     "output_type": "display_data"
    }
   ],
   "source": [
    "plt.plot(syn1_history[0], 'o-', ms=3, lw=1.5, color='pink')\n",
    "plt.xlabel(r'$L2$', fontsize=16)\n",
    "plt.show()"
   ]
  },
  {
   "cell_type": "code",
   "execution_count": 10,
   "metadata": {},
   "outputs": [
    {
     "name": "stdout",
     "output_type": "stream",
     "text": [
      "Output After Training(根據L1):\n",
      "[[6.39789179e-01 1.37099327e-01 9.17994494e-01 9.94721272e-01]\n",
      " [2.05872346e-01 6.35431408e-04 1.84356095e-02 8.85391770e-01]\n",
      " [9.90357890e-01 8.73945782e-01 2.50300512e-02 7.89791084e-01]\n",
      " [9.37467124e-01 2.69967577e-02 4.30718416e-05 1.33472288e-01]]\n"
     ]
    }
   ],
   "source": [
    "print(\"Output After Training(根據L1):\")\n",
    "print(l1)"
   ]
  },
  {
   "cell_type": "code",
   "execution_count": 11,
   "metadata": {},
   "outputs": [
    {
     "name": "stdout",
     "output_type": "stream",
     "text": [
      "Output After Training(根據L2):\n",
      "[[0.00702213]\n",
      " [0.99100952]\n",
      " [0.99215162]\n",
      " [0.01047911]]\n"
     ]
    }
   ],
   "source": [
    "print(\"Output After Training(根據L2):\")\n",
    "print(l2)"
   ]
  }
 ],
 "metadata": {
  "kernelspec": {
   "display_name": "Python 3",
   "language": "python",
   "name": "python3"
  },
  "language_info": {
   "codemirror_mode": {
    "name": "ipython",
    "version": 3
   },
   "file_extension": ".py",
   "mimetype": "text/x-python",
   "name": "python",
   "nbconvert_exporter": "python",
   "pygments_lexer": "ipython3",
   "version": "3.7.7"
  }
 },
 "nbformat": 4,
 "nbformat_minor": 2
}
