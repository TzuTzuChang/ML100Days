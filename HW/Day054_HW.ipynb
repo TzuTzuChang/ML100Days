{
 "cells": [
  {
   "cell_type": "markdown",
   "metadata": {},
   "source": [
    "# 作業\n",
    "* 試著想想看, 非監督學習是否有可能使用評價函數 (Metric) 來鑑別好壞呢?  \n",
    "(Hint : 可以分為 \"有目標值\" 與 \"無目標值\" 兩個方向思考)\n",
    "\n",
    "> 若以有無目標值來區分非監督學習是否有適用於評比模型的評價函數,\n",
    "\n",
    "> 在有目標值的情況下, 或許可將非監督式學習轉成監督式學習, 以監督是學習常用的評價函數(Ex:回歸問題可用MSE, MAE, R-square;分類問題可用AUC, F1-Score等等;或是常見的Accuracy);\n",
    "\n",
    "> 而無目標值時, 可以空間上的密度, 或資料間的距離, 去評比簇内相似性(同一个簇的數據盡量相似);簇間相異性(不同簇之間的差别越大越好).\n",
    "\n",
    "> 由Day056講義可知:如果資料有目標值, 只是先忽略目標值做非監督學習, 則只要微調後, 就可以使用原本監督的測量函數評估準確性.但通常沒有目標值(或目標值非常少)才會用非監督模型, 這種情況下, 只能使用資料本身的分布資訊, 來做模型評估."
   ]
  }
 ],
 "metadata": {
  "kernelspec": {
   "display_name": "Python 3",
   "language": "python",
   "name": "python3"
  },
  "language_info": {
   "codemirror_mode": {
    "name": "ipython",
    "version": 3
   },
   "file_extension": ".py",
   "mimetype": "text/x-python",
   "name": "python",
   "nbconvert_exporter": "python",
   "pygments_lexer": "ipython3",
   "version": "3.7.6"
  }
 },
 "nbformat": 4,
 "nbformat_minor": 1
}
